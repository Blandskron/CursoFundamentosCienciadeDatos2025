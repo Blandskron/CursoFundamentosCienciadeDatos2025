{
 "cells": [
  {
   "cell_type": "markdown",
   "id": "fcfd091b",
   "metadata": {},
   "source": [
    "\n",
    "# Rutina Final en Python: Aplicación de Variables, Tipos, Entrada/Salida y Aritmética\n",
    "\n",
    "**Objetivo:** Integrar variables, tipos de datos, expresiones aritméticas y entrada/salida en una rutina completa simulando un pequeño programa ejecutable.\n",
    "\n",
    "---\n"
   ]
  },
  {
   "cell_type": "markdown",
   "id": "0f673fc6",
   "metadata": {},
   "source": [
    "\n",
    "## Introducción\n",
    "\n",
    "Este notebook reúne todos los conceptos aprendidos hasta ahora:  \n",
    "- Variables  \n",
    "- Tipos de datos  \n",
    "- Operaciones aritméticas  \n",
    "- Conversión de tipos  \n",
    "- Entrada y salida estándar  \n",
    "- Simulación de ejecución de scripts  \n",
    "\n",
    "Crearemos una pequeña **rutina de baja complejidad** que calcula el **IMC (Índice de Masa Corporal)** del usuario y entrega un diagnóstico personalizado.\n"
   ]
  },
  {
   "cell_type": "markdown",
   "id": "ba811499",
   "metadata": {},
   "source": [
    "\n",
    "## Instrucciones del Programa\n",
    "\n",
    "1. Solicita el nombre del usuario.\n",
    "2. Solicita su edad.\n",
    "3. Solicita su peso en kilogramos.\n",
    "4. Solicita su altura en metros.\n",
    "5. Calcula el IMC con la fórmula: `peso / (altura ** 2)`\n",
    "6. Muestra el IMC y una clasificación básica:\n",
    "   - IMC < 18.5 → Bajo peso\n",
    "   - 18.5 ≤ IMC < 25 → Normal\n",
    "   - 25 ≤ IMC < 30 → Sobrepeso\n",
    "   - IMC ≥ 30 → Obesidad\n"
   ]
  },
  {
   "cell_type": "markdown",
   "id": "0e688ec1",
   "metadata": {},
   "source": [
    "\n",
    "## Rutina completa: Calculadora de IMC\n"
   ]
  },
  {
   "cell_type": "code",
   "execution_count": 1,
   "id": "bbafd062",
   "metadata": {},
   "outputs": [
    {
     "ename": "ValueError",
     "evalue": "invalid literal for int() with base 10: ''",
     "output_type": "error",
     "traceback": [
      "\u001b[1;31m---------------------------------------------------------------------------\u001b[0m",
      "\u001b[1;31mValueError\u001b[0m                                Traceback (most recent call last)",
      "Cell \u001b[1;32mIn[1], line 2\u001b[0m\n\u001b[0;32m      1\u001b[0m nombre \u001b[38;5;241m=\u001b[39m \u001b[38;5;28minput\u001b[39m(\u001b[38;5;124m\"\u001b[39m\u001b[38;5;124m¿Cuál es tu nombre? \u001b[39m\u001b[38;5;124m\"\u001b[39m)\n\u001b[1;32m----> 2\u001b[0m edad \u001b[38;5;241m=\u001b[39m \u001b[38;5;28mint\u001b[39m(\u001b[38;5;28minput\u001b[39m(\u001b[38;5;124m\"\u001b[39m\u001b[38;5;124m¿Qué edad tienes? \u001b[39m\u001b[38;5;124m\"\u001b[39m))\n\u001b[0;32m      3\u001b[0m peso \u001b[38;5;241m=\u001b[39m \u001b[38;5;28mfloat\u001b[39m(\u001b[38;5;28minput\u001b[39m(\u001b[38;5;124m\"\u001b[39m\u001b[38;5;124m¿Cuál es tu peso en kilogramos? \u001b[39m\u001b[38;5;124m\"\u001b[39m))\n\u001b[0;32m      4\u001b[0m altura \u001b[38;5;241m=\u001b[39m \u001b[38;5;28mfloat\u001b[39m(\u001b[38;5;28minput\u001b[39m(\u001b[38;5;124m\"\u001b[39m\u001b[38;5;124m¿Cuál es tu altura en metros? \u001b[39m\u001b[38;5;124m\"\u001b[39m))\n",
      "\u001b[1;31mValueError\u001b[0m: invalid literal for int() with base 10: ''"
     ]
    }
   ],
   "source": [
    "\n",
    "nombre = input(\"¿Cuál es tu nombre? \")\n",
    "edad = int(input(\"¿Qué edad tienes? \"))\n",
    "peso = float(input(\"¿Cuál es tu peso en kilogramos? \"))\n",
    "altura = float(input(\"¿Cuál es tu altura en metros? \"))\n",
    "\n",
    "imc = peso / (altura ** 2)\n",
    "\n",
    "print(f\"Hola {nombre}, tienes {edad} años.\")\n",
    "print(f\"Tu IMC es: {round(imc, 2)}\")\n",
    "\n",
    "if imc < 18.5:\n",
    "    print(\"Clasificación: Bajo peso\")\n",
    "elif imc < 25:\n",
    "    print(\"Clasificación: Normal\")\n",
    "elif imc < 30:\n",
    "    print(\"Clasificación: Sobrepeso\")\n",
    "else:\n",
    "    print(\"Clasificación: Obesidad\")\n"
   ]
  },
  {
   "cell_type": "markdown",
   "id": "dfae9a03",
   "metadata": {},
   "source": [
    "\n",
    "## Simulación como Script `.py`\n",
    "\n",
    "Este código podría guardarse como `imc_calculadora.py` y ejecutarse desde terminal:\n",
    "\n",
    "```python\n",
    "# imc_calculadora.py\n",
    "\n",
    "nombre = input(\"¿Cuál es tu nombre? \")\n",
    "edad = int(input(\"¿Qué edad tienes? \"))\n",
    "peso = float(input(\"¿Cuál es tu peso en kilogramos? \"))\n",
    "altura = float(input(\"¿Cuál es tu altura en metros? \"))\n",
    "\n",
    "imc = peso / (altura ** 2)\n",
    "\n",
    "print(f\"Hola {nombre}, tienes {edad} años.\")\n",
    "print(f\"Tu IMC es: {round(imc, 2)}\")\n",
    "\n",
    "if imc < 18.5:\n",
    "    print(\"Clasificación: Bajo peso\")\n",
    "elif imc < 25:\n",
    "    print(\"Clasificación: Normal\")\n",
    "elif imc < 30:\n",
    "    print(\"Clasificación: Sobrepeso\")\n",
    "else:\n",
    "    print(\"Clasificación: Obesidad\")\n",
    "```\n",
    "\n",
    "Para ejecutarlo:\n",
    "\n",
    "```\n",
    "python imc_calculadora.py\n",
    "```\n",
    "\n",
    "Aunque en Google Colab no se usan scripts `.py`, este ejemplo sirve como modelo completo de rutina ejecutable.\n"
   ]
  }
 ],
 "metadata": {
  "kernelspec": {
   "display_name": "base",
   "language": "python",
   "name": "python3"
  },
  "language_info": {
   "codemirror_mode": {
    "name": "ipython",
    "version": 3
   },
   "file_extension": ".py",
   "mimetype": "text/x-python",
   "name": "python",
   "nbconvert_exporter": "python",
   "pygments_lexer": "ipython3",
   "version": "3.12.7"
  }
 },
 "nbformat": 4,
 "nbformat_minor": 5
}
