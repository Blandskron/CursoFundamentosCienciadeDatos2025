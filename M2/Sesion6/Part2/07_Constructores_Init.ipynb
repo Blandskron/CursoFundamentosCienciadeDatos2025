{
 "cells": [
  {
   "cell_type": "markdown",
   "id": "1a6a7d81",
   "metadata": {},
   "source": [
    "# Clases, Objetos y Métodos\n",
    "Este notebook profundiza en la definición de clases en Python, la creación de objetos y el uso de métodos para representar y manipular información."
   ]
  },
  {
   "cell_type": "markdown",
   "id": "cd15113f",
   "metadata": {},
   "source": [
    "## Definición de clase con `class`\n",
    "En Python, una clase se define con la palabra clave `class`. Dentro de la clase podemos declarar atributos (variables) y métodos (funciones):\n",
    "\n",
    "```python\n",
    "class Persona:\n",
    "    def saludar(self):\n",
    "        print(\"Hola\")\n",
    "```"
   ]
  },
  {
   "cell_type": "markdown",
   "id": "880187c4",
   "metadata": {},
   "source": [
    "## Atributos y métodos\n",
    "- **Atributos**: representan el estado del objeto.\n",
    "- **Métodos**: representan el comportamiento del objeto.\n",
    "\n",
    "Los atributos se definen dentro del constructor `__init__`, y los métodos como funciones dentro de la clase.\n",
    "\n",
    "```python\n",
    "class Persona:\n",
    "    def __init__(self, nombre):\n",
    "        self.nombre = nombre\n",
    "\n",
    "    def saludar(self):\n",
    "        print(f\"Hola, soy {self.nombre}\")\n",
    "```"
   ]
  },
  {
   "cell_type": "markdown",
   "id": "2a5c8bc3",
   "metadata": {},
   "source": [
    "## Diferencia entre clase y objeto\n",
    "- Una **clase** es una plantilla que define estructura y comportamiento.\n",
    "- Un **objeto** es una instancia de esa clase, con valores concretos.\n",
    "\n",
    "```python\n",
    "# Clase\n",
    "class Vehiculo:\n",
    "    def __init__(self, marca):\n",
    "        self.marca = marca\n",
    "\n",
    "# Objeto\n",
    "auto = Vehiculo(\"Toyota\")\n",
    "```"
   ]
  },
  {
   "cell_type": "markdown",
   "id": "7464baad",
   "metadata": {},
   "source": [
    "## Instanciación y llamada a métodos\n",
    "Instanciar un objeto es crear una variable basada en una clase. Podemos llamar a sus métodos usando la sintaxis `objeto.metodo()`:\n",
    "\n",
    "```python\n",
    "class Animal:\n",
    "    def __init__(self, especie):\n",
    "        self.especie = especie\n",
    "\n",
    "    def sonido(self):\n",
    "        print(\"Hace un sonido\")\n",
    "\n",
    "perro = Animal(\"Canino\")\n",
    "perro.sonido()\n",
    "```"
   ]
  },
  {
   "cell_type": "markdown",
   "id": "7f00dd39",
   "metadata": {},
   "source": [
    "## Ejercicio práctico: Clase `Libro`\n",
    "Crea una clase llamada `Libro` que tenga los atributos `titulo`, `autor` y `anio`. Agrega un método llamado `mostrar_info()` que imprima esta información."
   ]
  },
  {
   "cell_type": "code",
   "execution_count": null,
   "id": "8101eb4e",
   "metadata": {},
   "outputs": [],
   "source": [
    "# Solución ejemplo\n",
    "class Libro:\n",
    "    def __init__(self, titulo, autor, anio):\n",
    "        self.titulo = titulo\n",
    "        self.autor = autor\n",
    "        self.anio = anio\n",
    "\n",
    "    def mostrar_info(self):\n",
    "        print(f\"Título: {self.titulo}\\nAutor: {self.autor}\\nAño: {self.anio}\")\n",
    "\n",
    "libro1 = Libro(\"Cien años de soledad\", \"Gabriel García Márquez\", 1967)\n",
    "libro1.mostrar_info()"
   ]
  }
 ],
 "metadata": {
  "language_info": {
   "name": "python"
  }
 },
 "nbformat": 4,
 "nbformat_minor": 5
}
