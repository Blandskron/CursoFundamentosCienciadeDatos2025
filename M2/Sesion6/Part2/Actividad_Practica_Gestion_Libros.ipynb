{
 "cells": [
  {
   "cell_type": "markdown",
   "id": "60976f1c",
   "metadata": {},
   "source": [
    "# Sistema de Gestión de Libros\n",
    "Desarrollaremos paso a paso un sistema sencillo para gestionar libros en una biblioteca, aplicando programación orientada a objetos en Python."
   ]
  },
  {
   "cell_type": "markdown",
   "id": "fa73ae92",
   "metadata": {},
   "source": [
    "## 1. Crear la clase `Libro` con atributos privados\n",
    "Definimos una clase llamada `Libro` con tres atributos: `_titulo`, `_autor` y `_isbn`. Usamos el guión bajo para indicar que son privados."
   ]
  },
  {
   "cell_type": "code",
   "execution_count": null,
   "id": "96988158",
   "metadata": {},
   "outputs": [],
   "source": [
    "class Libro:\n",
    "    def __init__(self, titulo, autor, isbn):\n",
    "        self._titulo = titulo\n",
    "        self._autor = autor\n",
    "        self._isbn = isbn"
   ]
  },
  {
   "cell_type": "markdown",
   "id": "dfeb2811",
   "metadata": {},
   "source": [
    "## 2. Definir un constructor que inicialice los atributos\n",
    "El constructor `__init__` permite asignar valores a los atributos cuando se crea un objeto de la clase `Libro`.\n",
    "Ya lo implementamos en la celda anterior."
   ]
  },
  {
   "cell_type": "markdown",
   "id": "a8d4ef7b",
   "metadata": {},
   "source": [
    "## 3. Implementar métodos `get_` para obtener atributos\n",
    "Creamos métodos que permiten acceder a los atributos privados desde fuera de la clase. Esto mantiene el principio de **encapsulación**."
   ]
  },
  {
   "cell_type": "code",
   "execution_count": null,
   "id": "28ad2bc7",
   "metadata": {},
   "outputs": [],
   "source": [
    "class Libro:\n",
    "    def __init__(self, titulo, autor, isbn):\n",
    "        self._titulo = titulo\n",
    "        self._autor = autor\n",
    "        self._isbn = isbn\n",
    "\n",
    "    def get_titulo(self):\n",
    "        return self._titulo\n",
    "\n",
    "    def get_autor(self):\n",
    "        return self._autor\n",
    "\n",
    "    def get_isbn(self):\n",
    "        return self._isbn"
   ]
  },
  {
   "cell_type": "markdown",
   "id": "af119a19",
   "metadata": {},
   "source": [
    "## 4. Método `descripcion()` para representar el libro\n",
    "Este método devuelve una cadena con la información del libro de forma legible y bien estructurada."
   ]
  },
  {
   "cell_type": "code",
   "execution_count": null,
   "id": "a071b406",
   "metadata": {},
   "outputs": [],
   "source": [
    "class Libro:\n",
    "    def __init__(self, titulo, autor, isbn):\n",
    "        self._titulo = titulo\n",
    "        self._autor = autor\n",
    "        self._isbn = isbn\n",
    "\n",
    "    def get_titulo(self):\n",
    "        return self._titulo\n",
    "\n",
    "    def get_autor(self):\n",
    "        return self._autor\n",
    "\n",
    "    def get_isbn(self):\n",
    "        return self._isbn\n",
    "\n",
    "    def descripcion(self):\n",
    "        return f\"Título: {self._titulo}, Autor: {self._autor}, ISBN: {self._isbn}\""
   ]
  },
  {
   "cell_type": "markdown",
   "id": "d23e11b3",
   "metadata": {},
   "source": [
    "## 5. Clase `Biblioteca` y método `agregar_libro()`\n",
    "Creamos una clase que contenga una lista de libros y permita agregar nuevos mediante un método."
   ]
  },
  {
   "cell_type": "code",
   "execution_count": null,
   "id": "77a45e7a",
   "metadata": {},
   "outputs": [],
   "source": [
    "class Biblioteca:\n",
    "    def __init__(self):\n",
    "        self.libros = []\n",
    "\n",
    "    def agregar_libro(self, libro):\n",
    "        self.libros.append(libro)"
   ]
  },
  {
   "cell_type": "markdown",
   "id": "1ef0e6a9",
   "metadata": {},
   "source": [
    "## 6. Método `mostrar_libro()` para listar descripciones\n",
    "Este método recorre la lista de libros y llama al método `descripcion()` de cada libro para mostrar sus detalles."
   ]
  },
  {
   "cell_type": "code",
   "execution_count": null,
   "id": "2615f55c",
   "metadata": {},
   "outputs": [],
   "source": [
    "class Biblioteca:\n",
    "    def __init__(self):\n",
    "        self.libros = []\n",
    "\n",
    "    def agregar_libro(self, libro):\n",
    "        self.libros.append(libro)\n",
    "\n",
    "    def mostrar_libro(self):\n",
    "        for libro in self.libros:\n",
    "            print(libro.descripcion())"
   ]
  },
  {
   "cell_type": "markdown",
   "id": "110b36ba",
   "metadata": {},
   "source": [
    "## 7. Instanciación de objetos y prueba del sistema\n",
    "Creamos una biblioteca, agregamos al menos dos libros y mostramos su información."
   ]
  },
  {
   "cell_type": "code",
   "execution_count": null,
   "id": "e24dfabf",
   "metadata": {},
   "outputs": [],
   "source": [
    "# Clases definidas previamente\n",
    "class Libro:\n",
    "    def __init__(self, titulo, autor, isbn):\n",
    "        self._titulo = titulo\n",
    "        self._autor = autor\n",
    "        self._isbn = isbn\n",
    "\n",
    "    def get_titulo(self):\n",
    "        return self._titulo\n",
    "\n",
    "    def get_autor(self):\n",
    "        return self._autor\n",
    "\n",
    "    def get_isbn(self):\n",
    "        return self._isbn\n",
    "\n",
    "    def descripcion(self):\n",
    "        return f\"Título: {self._titulo}, Autor: {self._autor}, ISBN: {self._isbn}\"\n",
    "\n",
    "class Biblioteca:\n",
    "    def __init__(self):\n",
    "        self.libros = []\n",
    "\n",
    "    def agregar_libro(self, libro):\n",
    "        self.libros.append(libro)\n",
    "\n",
    "    def mostrar_libro(self):\n",
    "        for libro in self.libros:\n",
    "            print(libro.descripcion())\n",
    "\n",
    "# Crear instancia de biblioteca y libros\n",
    "biblio = Biblioteca()\n",
    "libro1 = Libro(\"1984\", \"George Orwell\", \"1234567890\")\n",
    "libro2 = Libro(\"El Principito\", \"Antoine de Saint-Exupéry\", \"0987654321\")\n",
    "\n",
    "# Agregar libros y mostrar\n",
    "biblio.agregar_libro(libro1)\n",
    "biblio.agregar_libro(libro2)\n",
    "biblio.mostrar_libro()"
   ]
  }
 ],
 "metadata": {
  "language_info": {
   "name": "python"
  }
 },
 "nbformat": 4,
 "nbformat_minor": 5
}
