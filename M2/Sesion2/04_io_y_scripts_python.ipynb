{
 "cells": [
  {
   "cell_type": "markdown",
   "id": "7b111d0e",
   "metadata": {},
   "source": [
    "\n",
    "# Entrada, Salida y Simulación de Scripts en Python\n",
    "\n",
    "**Objetivo:** Comprender cómo utilizar funciones básicas de entrada y salida en Python, cómo convertir valores de entrada y cómo simular un script completo.\n",
    "\n",
    "---\n"
   ]
  },
  {
   "cell_type": "markdown",
   "id": "ba8d0a15",
   "metadata": {},
   "source": [
    "\n",
    "## Uso de `print()` para salida\n",
    "\n",
    "La función `print()` muestra información en la consola o pantalla del programa:\n",
    "\n",
    "```python\n",
    "print(\"Hola, mundo!\")\n",
    "print(\"El resultado de 2 + 2 es:\", 2 + 2)\n",
    "```\n"
   ]
  },
  {
   "cell_type": "markdown",
   "id": "e0ba4d08",
   "metadata": {},
   "source": [
    "\n",
    "## Uso de `input()` para entrada\n",
    "\n",
    "La función `input()` permite al usuario ingresar datos. Siempre devuelve una **cadena de texto (`str`)**.\n",
    "\n",
    "```python\n",
    "nombre = input(\"¿Cuál es tu nombre? \")\n",
    "print(\"Hola\", nombre)\n",
    "```\n"
   ]
  },
  {
   "cell_type": "markdown",
   "id": "baf385eb",
   "metadata": {},
   "source": [
    "\n",
    "## Convertir `input()` a otros tipos\n",
    "\n",
    "Como `input()` siempre devuelve texto, debemos convertirlo si esperamos un número:\n",
    "\n",
    "```python\n",
    "edad = int(input(\"¿Cuántos años tienes? \"))\n",
    "print(\"Tendrás\", edad + 1, \"años el próximo año.\")\n",
    "```\n"
   ]
  },
  {
   "cell_type": "markdown",
   "id": "864d563b",
   "metadata": {},
   "source": [
    "\n",
    "## Ejercicio: Nombre y Edad\n",
    "\n",
    "Crea un script que:\n",
    "\n",
    "1. Pida el nombre del usuario.\n",
    "2. Pida su edad.\n",
    "3. Imprima un mensaje personalizado.\n"
   ]
  },
  {
   "cell_type": "code",
   "execution_count": null,
   "id": "dca79592",
   "metadata": {},
   "outputs": [],
   "source": [
    "\n",
    "nombre = input(\"¿Cómo te llamas? \")\n",
    "edad = int(input(\"¿Qué edad tienes? \"))\n",
    "\n",
    "print(f\"Hola {nombre}, tienes {edad} años.\")\n"
   ]
  },
  {
   "cell_type": "markdown",
   "id": "0a02e27a",
   "metadata": {},
   "source": [
    "\n",
    "## Validar entrada del usuario\n",
    "\n",
    "Podemos usar condicionales para comprobar los datos:\n",
    "\n",
    "```python\n",
    "edad = input(\"Edad: \")\n",
    "if edad.isdigit():\n",
    "    edad = int(edad)\n",
    "    print(\"Edad válida:\", edad)\n",
    "else:\n",
    "    print(\"Por favor, ingresa solo números.\")\n",
    "```\n"
   ]
  },
  {
   "cell_type": "code",
   "execution_count": null,
   "id": "cb1a2976",
   "metadata": {},
   "outputs": [],
   "source": [
    "\n",
    "edad = input(\"Edad: \")\n",
    "if edad.isdigit():\n",
    "    edad = int(edad)\n",
    "    print(\"Edad válida:\", edad)\n",
    "else:\n",
    "    print(\"Por favor, ingresa solo números.\")\n"
   ]
  },
  {
   "cell_type": "markdown",
   "id": "63ac73dc",
   "metadata": {},
   "source": [
    "\n",
    "## Simulación de un archivo `.py`\n",
    "\n",
    "En un archivo llamado `bienvenida.py`, podrías tener:\n",
    "\n",
    "```python\n",
    "# bienvenida.py\n",
    "nombre = input(\"¿Cómo te llamas? \")\n",
    "edad = int(input(\"¿Qué edad tienes? \"))\n",
    "print(f\"Hola {nombre}, tienes {edad} años.\")\n",
    "```\n",
    "\n",
    "Se ejecutaría desde terminal con:\n",
    "\n",
    "```\n",
    "python bienvenida.py\n",
    "```\n",
    "\n",
    "Aunque en Google Colab no usamos archivos `.py` directamente, este entorno es ideal para aprender paso a paso, probar código de inmediato y compartir notebooks.\n"
   ]
  }
 ],
 "metadata": {
  "language_info": {
   "name": "python"
  }
 },
 "nbformat": 4,
 "nbformat_minor": 5
}
