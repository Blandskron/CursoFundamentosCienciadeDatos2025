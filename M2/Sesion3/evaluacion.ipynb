{
 "cells": [
  {
   "cell_type": "markdown",
   "id": "24ab4873",
   "metadata": {},
   "source": [
    "\n",
    "# Gestión de Evaluaciones Finales de Estudiantes\n",
    "\n",
    "Este cuaderno permite procesar calificaciones de estudiantes y asignarles observaciones basadas en su desempeño académico.\n"
   ]
  },
  {
   "cell_type": "code",
   "execution_count": null,
   "id": "26a4782d",
   "metadata": {},
   "outputs": [],
   "source": [
    "\n",
    "estudiantes = []\n",
    "\n",
    "continuar = True\n",
    "\n",
    "while continuar:\n",
    "    nombre = input(\"Nombre del estudiante: \")\n",
    "\n",
    "    try:\n",
    "        nota_matematicas = float(input(\"Nota en Matemáticas: \"))\n",
    "        nota_ciencias = float(input(\"Nota en Ciencias: \"))\n",
    "        nota_ingles = float(input(\"Nota en Inglés: \"))\n",
    "    except ValueError:\n",
    "        print(\"Por favor ingresa valores numéricos válidos.\")\n",
    "        continue\n",
    "\n",
    "    promedio = (nota_matematicas + nota_ciencias + nota_ingles) / 3\n",
    "\n",
    "    if promedio >= 90:\n",
    "        comentario = \"Excelente\"\n",
    "    elif promedio >= 75:\n",
    "        comentario = \"Bueno\"\n",
    "    else:\n",
    "        comentario = \"Necesita mejorar\"\n",
    "\n",
    "    comentario += \" ¡Puntuación perfecta!\" if promedio == 100 else \"\"\n",
    "\n",
    "    aprobado = \"Aprobado\" if promedio >= 60 else \"No aprobado\"\n",
    "\n",
    "    estudiantes.append({\n",
    "        \"nombre\": nombre,\n",
    "        \"promedio\": promedio,\n",
    "        \"comentario\": comentario,\n",
    "        \"estado\": aprobado\n",
    "    })\n",
    "\n",
    "    salir = input(\"¿Deseas ingresar otro estudiante? (s/n): \")\n",
    "    if salir.lower() != \"s\":\n",
    "        continuar = False\n"
   ]
  },
  {
   "cell_type": "markdown",
   "id": "acf972e1",
   "metadata": {},
   "source": [
    "\n",
    "## Resultados Finales\n"
   ]
  },
  {
   "cell_type": "code",
   "execution_count": null,
   "id": "84dbe1ea",
   "metadata": {},
   "outputs": [],
   "source": [
    "\n",
    "print(\"\\nResumen de estudiantes evaluados:\")\n",
    "for estudiante in estudiantes:\n",
    "    print(f\"{estudiante['nombre']}: {estudiante['comentario']} ({estudiante['estado']})\")\n"
   ]
  }
 ],
 "metadata": {
  "kernelspec": {
   "display_name": "base",
   "language": "python",
   "name": "python3"
  },
  "language_info": {
   "codemirror_mode": {
    "name": "ipython",
    "version": 3
   },
   "file_extension": ".py",
   "mimetype": "text/x-python",
   "name": "python",
   "nbconvert_exporter": "python",
   "pygments_lexer": "ipython3",
   "version": "3.12.7"
  }
 },
 "nbformat": 4,
 "nbformat_minor": 5
}
