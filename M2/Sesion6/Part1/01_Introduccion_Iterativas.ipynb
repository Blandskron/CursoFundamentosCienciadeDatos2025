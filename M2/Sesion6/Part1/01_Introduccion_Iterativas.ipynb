{
 "cells": [
  {
   "cell_type": "markdown",
   "id": "3c33ab0f",
   "metadata": {},
   "source": [
    "# Introducción a las Sentencias Iterativas\n",
    "En este notebook exploraremos uno de los fundamentos esenciales de la programación: **las sentencias iterativas**.\n",
    "\n",
    "Aprenderás a:\n",
    "- Comprender qué es una sentencia iterativa y por qué es útil\n",
    "- Distinguir entre `for` y `while`\n",
    "- Reconocer cuándo usar ciclos controlados vs. ciclos indeterminados\n",
    "- Aplicar ejemplos básicos de iteración"
   ]
  },
  {
   "cell_type": "markdown",
   "id": "71f17518",
   "metadata": {},
   "source": [
    "## ¿Qué es una sentencia iterativa?\n",
    "Una **sentencia iterativa** permite ejecutar un bloque de código múltiples veces. Es fundamental para tareas repetitivas como recorrer listas, validar datos o ejecutar cálculos en bucle.\n",
    "\n",
    "En Python, las principales estructuras iterativas son:\n",
    "- `while`\n",
    "- `for`"
   ]
  },
  {
   "cell_type": "markdown",
   "id": "862e7da6",
   "metadata": {},
   "source": [
    "## Utilidad en la resolución de problemas\n",
    "Las sentencias iterativas nos permiten automatizar tareas:\n",
    "- Calcular promedios de muchos datos\n",
    "- Recorrer estructuras como listas y diccionarios\n",
    "- Repetir una acción hasta cumplir una condición"
   ]
  },
  {
   "cell_type": "markdown",
   "id": "c39686e3",
   "metadata": {},
   "source": [
    "## Diferencia entre `for` y `while`\n",
    "| Característica | `for` | `while` |\n",
    "|----------------|-------|---------|\n",
    "| Se usa para... | Recorrer elementos de una colección | Ejecutar mientras se cumpla una condición |\n",
    "| Control del ciclo | Interno (automático) | Manual (el programador define cómo y cuándo parar) |\n",
    "| Riesgo de bucle infinito | Bajo | Alto si no se controla la condición |"
   ]
  },
  {
   "cell_type": "markdown",
   "id": "1128042f",
   "metadata": {},
   "source": [
    "## Ciclos controlados vs. ciclos indeterminados\n",
    "- **Ciclo controlado:** sabemos cuántas veces debe repetirse (ej. recorrer una lista).\n",
    "- **Ciclo indeterminado:** se repite hasta que algo sucede (ej. esperar una respuesta válida del usuario)."
   ]
  },
  {
   "cell_type": "markdown",
   "id": "1b2add80",
   "metadata": {},
   "source": [
    "## Ejemplos iniciales\n",
    "### Bucle `for` (ciclo controlado)\n",
    "```python\n",
    "for i in range(5):\n",
    "    print(\"Iteración número\", i)\n",
    "```\n",
    "\n",
    "### Bucle `while` (ciclo indeterminado)\n",
    "```python\n",
    "contador = 0\n",
    "while contador < 5:\n",
    "    print(\"Contador:\", contador)\n",
    "    contador += 1\n",
    "```"
   ]
  }
 ],
 "metadata": {
  "language_info": {
   "name": "python"
  }
 },
 "nbformat": 4,
 "nbformat_minor": 5
}
