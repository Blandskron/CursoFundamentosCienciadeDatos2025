{
 "cells": [
  {
   "cell_type": "markdown",
   "id": "4a7ddc55",
   "metadata": {},
   "source": [
    "\n",
    "# Tipos de Datos Fundamentales en Python\n",
    "\n",
    "**Objetivo:** Aprender a trabajar con los tipos de datos básicos en Python y entender sus características, usos y restricciones.\n",
    "\n",
    "---\n"
   ]
  },
  {
   "cell_type": "markdown",
   "id": "41d465d2",
   "metadata": {},
   "source": [
    "\n",
    "## ¿Qué son los Tipos de Datos?\n",
    "\n",
    "Los tipos de datos definen la naturaleza de la información que podemos almacenar y procesar.  \n",
    "Python ofrece varios tipos fundamentales que permiten modelar la realidad de forma sencilla y poderosa.\n"
   ]
  },
  {
   "cell_type": "markdown",
   "id": "a71a784c",
   "metadata": {},
   "source": [
    "\n",
    "## 1. Enteros (`int`)\n",
    "\n",
    "Representan números sin decimales.\n",
    "\n",
    "```python\n",
    "numero_entero = 42\n",
    "print(type(numero_entero))\n",
    "```\n"
   ]
  },
  {
   "cell_type": "markdown",
   "id": "2196261c",
   "metadata": {},
   "source": [
    "\n",
    "## 2. Decimales (`float`)\n",
    "\n",
    "Representan números con decimales.\n",
    "\n",
    "```python\n",
    "numero_decimal = 3.1416\n",
    "print(type(numero_decimal))\n",
    "```\n"
   ]
  },
  {
   "cell_type": "markdown",
   "id": "2a5a2805",
   "metadata": {},
   "source": [
    "\n",
    "## 3. Cadenas de texto (`str`)\n",
    "\n",
    "Representan texto, entre comillas.\n",
    "\n",
    "```python\n",
    "texto = \"Hola mundo\"\n",
    "print(type(texto))\n",
    "```\n"
   ]
  },
  {
   "cell_type": "markdown",
   "id": "ba516261",
   "metadata": {},
   "source": [
    "\n",
    "## 4. Booleanos (`bool`)\n",
    "\n",
    "Representan valores de verdad: `True` o `False`.\n",
    "\n",
    "```python\n",
    "activo = True\n",
    "print(type(activo))\n",
    "```\n"
   ]
  },
  {
   "cell_type": "markdown",
   "id": "b7cfd448",
   "metadata": {},
   "source": [
    "\n",
    "## Operaciones no permitidas entre tipos\n",
    "\n",
    "Python no permite combinar ciertos tipos sin conversión explícita. Prueba el siguiente código:\n",
    "\n",
    "```python\n",
    "texto = \"5\"\n",
    "numero = 3\n",
    "resultado = texto + numero   # ¿Qué crees que ocurrirá?\n",
    "```\n"
   ]
  },
  {
   "cell_type": "markdown",
   "id": "226686e0",
   "metadata": {},
   "source": [
    "\n",
    "## Verificación con `type()`\n",
    "\n",
    "Puedes verificar el tipo de cualquier variable con `type()`:\n",
    "\n",
    "```python\n",
    "variable = 5.5\n",
    "print(type(variable))  # <class 'float'>\n",
    "```\n"
   ]
  },
  {
   "cell_type": "markdown",
   "id": "af94a7b0",
   "metadata": {},
   "source": [
    "\n",
    "## Ejercicio 1: Crea una variable de cada tipo y muestra su tipo.\n"
   ]
  },
  {
   "cell_type": "code",
   "execution_count": 3,
   "id": "9972d4ba",
   "metadata": {},
   "outputs": [
    {
     "name": "stdout",
     "output_type": "stream",
     "text": [
      "<class 'int'>\n",
      "<class 'float'>\n",
      "<class 'str'>\n",
      "<class 'bool'>\n"
     ]
    }
   ],
   "source": [
    "\n",
    "# Tu código aquí\n",
    "mi_entero = 10\n",
    "mi_decimal = 2.5\n",
    "mi_texto = \"Python\"\n",
    "mi_booleano = False\n",
    "\n",
    "print(type(mi_entero))\n",
    "print(type(mi_decimal))\n",
    "print(type(mi_texto))\n",
    "print(type(mi_booleano))\n"
   ]
  },
  {
   "cell_type": "markdown",
   "id": "dbb7cc9e",
   "metadata": {},
   "source": [
    "\n",
    "## Ejercicio 2: ¿Qué pasa si sumamos tipos incompatibles?\n",
    "\n",
    "```python\n",
    "# ¿Esto es válido?\n",
    "mensaje = \"Resultado: \"\n",
    "numero = 100\n",
    "print(mensaje + numero)  # Esto lanzará un error\n",
    "```\n",
    "Corrige el error usando `str()` y vuelve a intentarlo.\n"
   ]
  },
  {
   "cell_type": "code",
   "execution_count": 2,
   "id": "adada2e5",
   "metadata": {},
   "outputs": [
    {
     "name": "stdout",
     "output_type": "stream",
     "text": [
      "Resultado: 100\n"
     ]
    }
   ],
   "source": [
    "\n",
    "mensaje = \"Resultado: \"\n",
    "numero = 100\n",
    "\n",
    "# Conversión explícita\n",
    "print(mensaje + str(numero))\n"
   ]
  },
  {
   "cell_type": "markdown",
   "id": "c940e1db",
   "metadata": {},
   "source": [
    "\n",
    "## Actividad: “Clasifica el Tipo”\n",
    "\n",
    "A continuación, tienes una lista de valores. Intenta predecir qué tipo de dato es cada uno, luego usa `type()` para verificar.\n",
    "\n",
    "```python\n",
    "valores = [True, \"123\", 123, 45.6, \"False\", False]\n",
    "for v in valores:\n",
    "    print(v, \"→\", type(v))\n",
    "```\n"
   ]
  },
  {
   "cell_type": "code",
   "execution_count": 1,
   "id": "83b18148",
   "metadata": {},
   "outputs": [
    {
     "name": "stdout",
     "output_type": "stream",
     "text": [
      "True → <class 'bool'>\n",
      "123 → <class 'str'>\n",
      "123 → <class 'int'>\n",
      "45.6 → <class 'float'>\n",
      "False → <class 'str'>\n",
      "False → <class 'bool'>\n"
     ]
    }
   ],
   "source": [
    "\n",
    "valores = [True, \"123\", 123, 45.6, \"False\", False]\n",
    "for v in valores:\n",
    "    print(v, \"→\", type(v))\n"
   ]
  }
 ],
 "metadata": {
  "kernelspec": {
   "display_name": "base",
   "language": "python",
   "name": "python3"
  },
  "language_info": {
   "codemirror_mode": {
    "name": "ipython",
    "version": 3
   },
   "file_extension": ".py",
   "mimetype": "text/x-python",
   "name": "python",
   "nbconvert_exporter": "python",
   "pygments_lexer": "ipython3",
   "version": "3.12.7"
  }
 },
 "nbformat": 4,
 "nbformat_minor": 5
}
