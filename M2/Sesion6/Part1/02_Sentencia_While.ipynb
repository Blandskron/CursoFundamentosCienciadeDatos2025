{
 "cells": [
  {
   "cell_type": "markdown",
   "id": "aa54792f",
   "metadata": {},
   "source": [
    "# La Sentencia `while` en Python\n",
    "En este notebook profundizaremos en el uso del bucle `while`, una de las herramientas fundamentales para ejecutar bloques de código mientras se cumpla una condición."
   ]
  },
  {
   "cell_type": "markdown",
   "id": "19c40a77",
   "metadata": {},
   "source": [
    "## Sintaxis general del `while`\n",
    "La estructura básica de un bucle `while` en Python es:\n",
    "```python\n",
    "while condición:\n",
    "    # bloque de código\n",
    "```\n",
    "La **condición** se evalúa antes de cada iteración. Si es verdadera, se ejecuta el bloque; si es falsa, el bucle termina."
   ]
  },
  {
   "cell_type": "markdown",
   "id": "e00380c0",
   "metadata": {},
   "source": [
    "## Control de flujo y condiciones de salida\n",
    "El bucle `while` es útil cuando no sabemos cuántas veces se debe repetir una acción.\n",
    "Debemos modificar algo dentro del bucle para que eventualmente la condición sea falsa y el ciclo termine."
   ]
  },
  {
   "cell_type": "code",
   "execution_count": null,
   "id": "0fdb11c0",
   "metadata": {},
   "outputs": [],
   "source": [
    "# Ejemplo: ciclo que termina cuando el contador llega a 5\n",
    "contador = 0\n",
    "while contador < 5:\n",
    "    print(\"Contador:\", contador)\n",
    "    contador += 1"
   ]
  },
  {
   "cell_type": "markdown",
   "id": "bd1a847e",
   "metadata": {},
   "source": [
    "## Uso con `break` y `continue`\n",
    "- `break`: interrumpe el ciclo inmediatamente.\n",
    "- `continue`: salta a la siguiente iteración, omitiendo el resto del bloque actual."
   ]
  },
  {
   "cell_type": "code",
   "execution_count": null,
   "id": "d2bf5592",
   "metadata": {},
   "outputs": [],
   "source": [
    "# Ejemplo con break y continue\n",
    "contador = 0\n",
    "while contador < 10:\n",
    "    contador += 1\n",
    "    if contador == 3:\n",
    "        continue  # Salta la impresión cuando contador es 3\n",
    "    if contador == 8:\n",
    "        break     # Termina el ciclo cuando contador llega a 8\n",
    "    print(\"Valor:\", contador)"
   ]
  },
  {
   "cell_type": "markdown",
   "id": "eb19ea50",
   "metadata": {},
   "source": [
    "## Peligros del bucle infinito\n",
    "Un bucle infinito ocurre cuando la condición **nunca se vuelve falsa**. Esto puede congelar el programa.\n",
    "```python\n",
    "# Cuidado: esto crea un bucle infinito\n",
    "# while True:\n",
    "#     print(\"Esto nunca termina\")\n",
    "```\n",
    "Siempre asegúrate de que haya una forma de salir del ciclo."
   ]
  },
  {
   "cell_type": "markdown",
   "id": "aafcc620",
   "metadata": {},
   "source": [
    "## Ejercicio práctico: Adivinar un número\n",
    "Crea un programa que pida al usuario adivinar un número secreto entre 1 y 10. El programa debe repetirse hasta que el usuario acierte."
   ]
  },
  {
   "cell_type": "code",
   "execution_count": null,
   "id": "f67009e5",
   "metadata": {},
   "outputs": [],
   "source": [
    "# Solución ejemplo\n",
    "numero_secreto = 7\n",
    "adivinanza = int(input(\"Adivina un número del 1 al 10: \"))\n",
    "\n",
    "while adivinanza != numero_secreto:\n",
    "    print(\"Incorrecto. Intenta de nuevo.\")\n",
    "    adivinanza = int(input(\"Adivina un número del 1 al 10: \"))\n",
    "\n",
    "print(\"¡Correcto! El número era\", numero_secreto)"
   ]
  }
 ],
 "metadata": {
  "language_info": {
   "name": "python"
  }
 },
 "nbformat": 4,
 "nbformat_minor": 5
}
