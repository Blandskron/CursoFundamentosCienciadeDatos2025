{
 "cells": [
  {
   "cell_type": "markdown",
   "id": "d406e22c",
   "metadata": {},
   "source": [
    "\n",
    "# Resolución de Problemas con Estructuras Condicionales\n",
    "\n",
    "**Objetivo:** Utilizar estructuras condicionales (`if`, `if-else`, `if-elif-else`) para implementar soluciones a problemas reales y cotidianos mediante rutinas completas en Python.\n"
   ]
  },
  {
   "cell_type": "markdown",
   "id": "3cbbfc35",
   "metadata": {},
   "source": [
    "\n",
    "## Introducción\n",
    "\n",
    "Las estructuras condicionales permiten adaptar el comportamiento del programa según distintas situaciones. En esta práctica, abordaremos ejemplos cotidianos que requieren decisiones automatizadas, implementando rutinas completas con condiciones bien estructuradas.\n"
   ]
  },
  {
   "cell_type": "markdown",
   "id": "1e88af29",
   "metadata": {},
   "source": [
    "\n",
    "## Ejemplo 1: Verificación de edad para acceso\n",
    "\n",
    "Este programa determina si una persona puede ingresar a un sitio web restringido según su edad.\n"
   ]
  },
  {
   "cell_type": "code",
   "execution_count": null,
   "id": "c7e845bd",
   "metadata": {},
   "outputs": [],
   "source": [
    "\n",
    "edad = int(input(\"Ingresa tu edad: \"))\n",
    "\n",
    "if edad >= 18:\n",
    "    print(\"Acceso permitido\")\n",
    "else:\n",
    "    print(\"Acceso denegado. Debes ser mayor de edad.\")\n"
   ]
  },
  {
   "cell_type": "markdown",
   "id": "0eeda4fe",
   "metadata": {},
   "source": [
    "\n",
    "## Ejemplo 2: Clasificación de rendimiento académico\n",
    "\n",
    "Este programa clasifica el rendimiento del estudiante según su nota.\n"
   ]
  },
  {
   "cell_type": "code",
   "execution_count": null,
   "id": "2035d299",
   "metadata": {},
   "outputs": [],
   "source": [
    "\n",
    "nota = float(input(\"Ingresa tu nota final: \"))\n",
    "\n",
    "if nota >= 90:\n",
    "    print(\"Rendimiento excelente\")\n",
    "elif nota >= 70:\n",
    "    print(\"Rendimiento satisfactorio\")\n",
    "elif nota >= 50:\n",
    "    print(\"Rendimiento insuficiente\")\n",
    "else:\n",
    "    print(\"Rendimiento deficiente\")\n"
   ]
  },
  {
   "cell_type": "markdown",
   "id": "f3668f60",
   "metadata": {},
   "source": [
    "\n",
    "## Ejemplo 3: Simulación de permisos según rol\n",
    "\n",
    "Dependiendo del rol del usuario, se le otorgan distintos niveles de acceso.\n"
   ]
  },
  {
   "cell_type": "code",
   "execution_count": null,
   "id": "129395d3",
   "metadata": {},
   "outputs": [],
   "source": [
    "\n",
    "rol = input(\"Ingresa tu rol (admin, editor, lector): \")\n",
    "\n",
    "if rol == \"admin\":\n",
    "    print(\"Acceso total a la plataforma\")\n",
    "elif rol == \"editor\":\n",
    "    print(\"Acceso a edición de contenido\")\n",
    "elif rol == \"lector\":\n",
    "    print(\"Acceso de solo lectura\")\n",
    "else:\n",
    "    print(\"Rol no reconocido\")\n"
   ]
  },
  {
   "cell_type": "markdown",
   "id": "b6166cf7",
   "metadata": {},
   "source": [
    "\n",
    "## Práctica guiada: Clasificador de clima\n",
    "\n",
    "Crea un programa que indique qué ropa usar según la temperatura ingresada por el usuario:\n",
    "\n",
    "- Mayor o igual a 30 → \"Usa ropa liviana\"\n",
    "- Entre 20 y 29 → \"Lleva ropa cómoda\"\n",
    "- Entre 10 y 19 → \"Lleva abrigo\"\n",
    "- Menor a 10 → \"Ropa de invierno recomendada\"\n"
   ]
  },
  {
   "cell_type": "code",
   "execution_count": null,
   "id": "08c4e685",
   "metadata": {},
   "outputs": [],
   "source": [
    "\n",
    "temperatura = float(input(\"Ingresa la temperatura actual (°C): \"))\n",
    "\n",
    "if temperatura >= 30:\n",
    "    print(\"Usa ropa liviana\")\n",
    "elif temperatura >= 20:\n",
    "    print(\"Lleva ropa cómoda\")\n",
    "elif temperatura >= 10:\n",
    "    print(\"Lleva abrigo\")\n",
    "else:\n",
    "    print(\"Ropa de invierno recomendada\")\n"
   ]
  }
 ],
 "metadata": {
  "language_info": {
   "name": "python"
  }
 },
 "nbformat": 4,
 "nbformat_minor": 5
}
