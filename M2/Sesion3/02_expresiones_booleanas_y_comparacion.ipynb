{
 "cells": [
  {
   "cell_type": "markdown",
   "id": "0f9fb81a",
   "metadata": {},
   "source": [
    "\n",
    "# Expresiones Booleanas y Operadores de Comparación en Python\n",
    "\n",
    "**Objetivo:** Elaborar expresiones booleanas válidas y comprender su evaluación lógica para aplicar decisiones precisas mediante estructuras condicionales.\n"
   ]
  },
  {
   "cell_type": "markdown",
   "id": "924072c5",
   "metadata": {},
   "source": [
    "\n",
    "## Operadores de comparación\n",
    "\n",
    "Los operadores de comparación permiten comparar valores y devuelven como resultado un valor booleano (`True` o `False`).\n",
    "\n",
    "| Operador | Significado         | Ejemplo (`x = 5`, `y = 10`) |\n",
    "|----------|----------------------|-----------------------------|\n",
    "| `>`      | Mayor que            | `x > y` → False             |\n",
    "| `<`      | Menor que            | `x < y` → True              |\n",
    "| `>=`     | Mayor o igual que    | `x >= 5` → True             |\n",
    "| `<=`     | Menor o igual que    | `y <= 5` → False            |\n",
    "| `==`     | Igual que            | `x == 5` → True             |\n",
    "| `!=`     | Distinto que         | `x != y` → True             |\n"
   ]
  },
  {
   "cell_type": "code",
   "execution_count": null,
   "id": "56f92d41",
   "metadata": {},
   "outputs": [],
   "source": [
    "\n",
    "x = 5\n",
    "y = 10\n",
    "\n",
    "print(\"x > y:\", x > y)\n",
    "print(\"x < y:\", x < y)\n",
    "print(\"x == 5:\", x == 5)\n",
    "print(\"y != 5:\", y != 5)\n"
   ]
  },
  {
   "cell_type": "markdown",
   "id": "5a22c646",
   "metadata": {},
   "source": [
    "\n",
    "## Operadores booleanos\n",
    "\n",
    "Permiten combinar condiciones lógicas:\n",
    "\n",
    "- `and`: devuelve `True` solo si ambas condiciones son verdaderas.\n",
    "- `or`: devuelve `True` si al menos una condición es verdadera.\n",
    "- `not`: invierte el valor booleano (`True` → `False` y viceversa).\n"
   ]
  },
  {
   "cell_type": "code",
   "execution_count": null,
   "id": "34b5927f",
   "metadata": {},
   "outputs": [],
   "source": [
    "\n",
    "x = 7\n",
    "print(x > 5 and x < 10)  # True\n",
    "print(x < 5 or x == 7)   # True\n",
    "print(not x > 10)        # True\n"
   ]
  },
  {
   "cell_type": "markdown",
   "id": "3bde63fd",
   "metadata": {},
   "source": [
    "\n",
    "## Uso de paréntesis\n",
    "\n",
    "El uso de paréntesis permite establecer un orden claro en la evaluación de condiciones compuestas.\n",
    "\n",
    "```python\n",
    "edad = 25\n",
    "ingresos = 2000\n",
    "\n",
    "if (edad > 18 and ingresos > 1000) or edad > 65:\n",
    "    print(\"Cumple requisitos\")\n",
    "```\n"
   ]
  },
  {
   "cell_type": "code",
   "execution_count": null,
   "id": "372e0a87",
   "metadata": {},
   "outputs": [],
   "source": [
    "\n",
    "edad = 25\n",
    "ingresos = 2000\n",
    "\n",
    "if (edad > 18 and ingresos > 1000) or edad > 65:\n",
    "    print(\"Cumple requisitos\")\n",
    "else:\n",
    "    print(\"No cumple requisitos\")\n"
   ]
  },
  {
   "cell_type": "markdown",
   "id": "91028f87",
   "metadata": {},
   "source": [
    "\n",
    "## Evaluación de múltiples condiciones\n",
    "\n",
    "Combinar operadores de comparación y booleanos permite modelar reglas complejas. Veamos un ejemplo:\n"
   ]
  },
  {
   "cell_type": "code",
   "execution_count": null,
   "id": "329db7c3",
   "metadata": {},
   "outputs": [],
   "source": [
    "\n",
    "nota = 85\n",
    "asistencia = 90\n",
    "\n",
    "if nota >= 70 and asistencia >= 80:\n",
    "    print(\"Estudiante aprobado\")\n",
    "else:\n",
    "    print(\"Estudiante reprobado\")\n"
   ]
  }
 ],
 "metadata": {
  "language_info": {
   "name": "python"
  }
 },
 "nbformat": 4,
 "nbformat_minor": 5
}
