{
 "cells": [
  {
   "cell_type": "markdown",
   "id": "83993437",
   "metadata": {},
   "source": [
    "# Métodos Personalizados y Uso de Objetos Incorporados\n",
    "En este notebook aprenderás a definir métodos personalizados en clases y a utilizar objetos incorporados como `str`, `list` y `dict` en Python."
   ]
  },
  {
   "cell_type": "markdown",
   "id": "53387e20",
   "metadata": {},
   "source": [
    "## Métodos definidos por el usuario\n",
    "Un **método personalizado** es una función definida dentro de una clase que especifica el comportamiento que tendrá un objeto.\n",
    "\n",
    "```python\n",
    "class Persona:\n",
    "    def saludar(self):\n",
    "        print(\"Hola\")\n",
    "```"
   ]
  },
  {
   "cell_type": "markdown",
   "id": "a7e26419",
   "metadata": {},
   "source": [
    "## Buenas prácticas: nombres y responsabilidades\n",
    "- Los nombres de los métodos deben describir su propósito: `mostrar_info`, `calcular_total`, `formatear_texto`, etc.\n",
    "- Un método debe tener una **única responsabilidad** clara.\n",
    "- Evita usar nombres genéricos como `accion1`, `proceso`, etc."
   ]
  },
  {
   "cell_type": "markdown",
   "id": "1666cf4f",
   "metadata": {},
   "source": [
    "## Uso de clases existentes: `str`, `list`, `dict`\n",
    "Python permite aprovechar las funcionalidades de clases ya incorporadas:\n",
    "- `str`: para trabajar con texto\n",
    "- `list`: para colecciones ordenadas\n",
    "- `dict`: para pares clave-valor\n",
    "\n",
    "Estas clases tienen métodos predefinidos que simplifican tareas comunes."
   ]
  },
  {
   "cell_type": "markdown",
   "id": "23320d18",
   "metadata": {},
   "source": [
    "## Métodos comunes de strings\n",
    "```python\n",
    "mensaje = \"Hola Mundo\"\n",
    "print(mensaje.upper())     # 'HOLA MUNDO'\n",
    "print(mensaje.lower())     # 'hola mundo'\n",
    "print(mensaje.replace(\"Hola\", \"Adiós\"))  # 'Adiós Mundo'\n",
    "print(mensaje.split())     # ['Hola', 'Mundo']\n",
    "```"
   ]
  },
  {
   "cell_type": "markdown",
   "id": "eb71faf6",
   "metadata": {},
   "source": [
    "## Ejercicio práctico: Clase `Mensaje`\n",
    "Crea una clase `Mensaje` que reciba un texto y tenga métodos para:\n",
    "- Mostrar el texto en mayúsculas\n",
    "- Contar cuántas palabras tiene\n",
    "- Reemplazar una palabra por otra"
   ]
  },
  {
   "cell_type": "code",
   "execution_count": null,
   "id": "aa22b79b",
   "metadata": {},
   "outputs": [],
   "source": [
    "# Solución ejemplo\n",
    "class Mensaje:\n",
    "    def __init__(self, texto):\n",
    "        self.texto = texto\n",
    "\n",
    "    def en_mayusculas(self):\n",
    "        return self.texto.upper()\n",
    "\n",
    "    def contar_palabras(self):\n",
    "        return len(self.texto.split())\n",
    "\n",
    "    def reemplazar(self, antigua, nueva):\n",
    "        return self.texto.replace(antigua, nueva)\n",
    "\n",
    "# Uso de la clase\n",
    "m = Mensaje(\"Aprender Python es divertido\")\n",
    "print(m.en_mayusculas())\n",
    "print(\"Cantidad de palabras:\", m.contar_palabras())\n",
    "print(m.reemplazar(\"divertido\", \"útil\"))"
   ]
  }
 ],
 "metadata": {
  "language_info": {
   "name": "python"
  }
 },
 "nbformat": 4,
 "nbformat_minor": 5
}
