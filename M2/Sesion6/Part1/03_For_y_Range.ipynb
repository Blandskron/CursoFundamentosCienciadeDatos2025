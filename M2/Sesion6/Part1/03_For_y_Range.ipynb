{
 "cells": [
  {
   "cell_type": "markdown",
   "id": "b4f5a3d7",
   "metadata": {},
   "source": [
    "# La Sentencia `for` y la Función `range()`\n",
    "En este notebook aprenderás a usar el bucle `for` junto con la función `range()` para recorrer secuencias y generar ciclos determinados."
   ]
  },
  {
   "cell_type": "markdown",
   "id": "559ab3c7",
   "metadata": {},
   "source": [
    "## Iteración sobre secuencias: listas, cadenas, rangos\n",
    "Python permite recorrer elementos de secuencias como:\n",
    "- **Listas**: `['a', 'b', 'c']`\n",
    "- **Cadenas**: `'hola'`\n",
    "- **Rangos**: `range(5)`\n",
    "\n",
    "Ejemplo:\n",
    "```python\n",
    "for letra in 'Python':\n",
    "    print(letra)\n",
    "```"
   ]
  },
  {
   "cell_type": "markdown",
   "id": "d9b0a256",
   "metadata": {},
   "source": [
    "## Sintaxis y uso de `for` con `range()`\n",
    "La función `range()` genera una secuencia de números enteros. Se usa comúnmente con `for`:\n",
    "\n",
    "```python\n",
    "for i in range(5):\n",
    "    print(i)\n",
    "```\n",
    "Esto imprimirá los números del 0 al 4."
   ]
  },
  {
   "cell_type": "markdown",
   "id": "804dbe9d",
   "metadata": {},
   "source": [
    "## Rango con inicio, fin y paso\n",
    "`range()` también permite definir un inicio, un final y un paso:\n",
    "\n",
    "```python\n",
    "for i in range(2, 10, 2):\n",
    "    print(i)\n",
    "```\n",
    "Esto imprimirá: 2, 4, 6, 8."
   ]
  },
  {
   "cell_type": "markdown",
   "id": "f65749a7",
   "metadata": {},
   "source": [
    "## Uso del `for` para repetición determinada\n",
    "El `for` es ideal cuando sabemos cuántas veces debe repetirse una acción.\n",
    "Ejemplo: imprimir 10 veces una frase\n",
    "\n",
    "```python\n",
    "for _ in range(10):\n",
    "    print(\"Repetición\")\n",
    "```"
   ]
  },
  {
   "cell_type": "markdown",
   "id": "b3083859",
   "metadata": {},
   "source": [
    "## Ejercicio práctico: Imprimir múltiplos de 3 entre 1 y 20\n",
    "Utiliza un bucle `for` para mostrar solo los números múltiplos de 3 entre 1 y 20."
   ]
  },
  {
   "cell_type": "code",
   "execution_count": null,
   "id": "1e6e8975",
   "metadata": {},
   "outputs": [],
   "source": [
    "# Solución ejemplo\n",
    "for numero in range(1, 21):\n",
    "    if numero % 3 == 0:\n",
    "        print(numero)"
   ]
  }
 ],
 "metadata": {
  "language_info": {
   "name": "python"
  }
 },
 "nbformat": 4,
 "nbformat_minor": 5
}
