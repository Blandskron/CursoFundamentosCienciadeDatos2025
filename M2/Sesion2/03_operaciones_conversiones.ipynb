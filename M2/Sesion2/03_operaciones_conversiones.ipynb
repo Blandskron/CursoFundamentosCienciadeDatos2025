{
 "cells": [
  {
   "cell_type": "markdown",
   "id": "d2ef70f3",
   "metadata": {},
   "source": [
    "\n",
    "# Expresiones Aritméticas y Conversión de Tipos en Python\n",
    "\n",
    "**Objetivo:** Comprender el uso de operadores aritméticos, la precedencia entre ellos y cómo convertir tipos de datos correctamente en Python.\n",
    "\n",
    "---\n"
   ]
  },
  {
   "cell_type": "markdown",
   "id": "15b794c5",
   "metadata": {},
   "source": [
    "\n",
    "## Operadores Aritméticos\n",
    "\n",
    "Python permite realizar cálculos matemáticos con operadores básicos:\n",
    "\n",
    "| Operador | Significado        | Ejemplo     |\n",
    "|----------|--------------------|-------------|\n",
    "| `+`      | Suma               | `2 + 3`     |\n",
    "| `-`      | Resta              | `5 - 1`     |\n",
    "| `*`      | Multiplicación     | `4 * 3`     |\n",
    "| `/`      | División real      | `10 / 2`    |\n",
    "| `//`     | División entera    | `7 // 2`    |\n",
    "| `%`      | Módulo (residuo)   | `7 % 2`     |\n",
    "| `**`     | Exponenciación     | `2 ** 3`    |\n",
    "\n",
    "```python\n",
    "a = 10\n",
    "b = 3\n",
    "\n",
    "print(\"Suma:\", a + b)\n",
    "print(\"División entera:\", a // b)\n",
    "print(\"Módulo:\", a % b)\n",
    "```\n"
   ]
  },
  {
   "cell_type": "markdown",
   "id": "d4b8d7ff",
   "metadata": {},
   "source": [
    "\n",
    "## Precedencia de Operadores\n",
    "\n",
    "La precedencia define qué operaciones se realizan primero.  \n",
    "Python sigue las reglas matemáticas convencionales. Puedes usar paréntesis para modificar el orden:\n",
    "\n",
    "```python\n",
    "resultado1 = 2 + 3 * 4      # Resultado: 14\n",
    "resultado2 = (2 + 3) * 4    # Resultado: 20\n",
    "\n",
    "print(resultado1, resultado2)\n",
    "```\n"
   ]
  },
  {
   "cell_type": "markdown",
   "id": "d0bf33b9",
   "metadata": {},
   "source": [
    "\n",
    "## Conversión de Tipos\n",
    "\n",
    "Convertimos datos de un tipo a otro usando funciones integradas:\n",
    "\n",
    "- `int()`: convierte a entero\n",
    "- `float()`: convierte a decimal\n",
    "- `str()`: convierte a cadena\n",
    "- `bool()`: convierte a booleano\n",
    "\n",
    "```python\n",
    "num_str = \"123\"\n",
    "num_int = int(num_str)\n",
    "print(num_int, type(num_int))\n",
    "```\n"
   ]
  },
  {
   "cell_type": "markdown",
   "id": "dfff618d",
   "metadata": {},
   "source": [
    "\n",
    "## Casos de Error en Conversiones\n",
    "\n",
    "No todo puede convertirse. El siguiente código generará un error:\n",
    "\n",
    "```python\n",
    "texto = \"hola\"\n",
    "numero = int(texto)  # Esto falla porque \"hola\" no es un número\n",
    "```\n"
   ]
  },
  {
   "cell_type": "markdown",
   "id": "12511c45",
   "metadata": {},
   "source": [
    "\n",
    "## Ejercicio 1: Resolver operaciones\n"
   ]
  },
  {
   "cell_type": "code",
   "execution_count": null,
   "id": "f9860e18",
   "metadata": {},
   "outputs": [],
   "source": [
    "\n",
    "a = 8\n",
    "b = 3\n",
    "\n",
    "print(\"a + b =\", a + b)\n",
    "print(\"a - b =\", a - b)\n",
    "print(\"a * b =\", a * b)\n",
    "print(\"a / b =\", a / b)\n",
    "print(\"a // b =\", a // b)\n",
    "print(\"a % b =\", a % b)\n",
    "print(\"a ** b =\", a ** b)\n"
   ]
  },
  {
   "cell_type": "markdown",
   "id": "69f85a3d",
   "metadata": {},
   "source": [
    "\n",
    "## Ejercicio 2: Convertir Tipos\n"
   ]
  },
  {
   "cell_type": "code",
   "execution_count": null,
   "id": "65df30c4",
   "metadata": {},
   "outputs": [],
   "source": [
    "\n",
    "edad = \"30\"\n",
    "altura = \"1.75\"\n",
    "\n",
    "# Convertir a números\n",
    "edad_int = int(edad)\n",
    "altura_float = float(altura)\n",
    "\n",
    "print(edad_int + 5)\n",
    "print(altura_float * 2)\n"
   ]
  },
  {
   "cell_type": "markdown",
   "id": "5af31ece",
   "metadata": {},
   "source": [
    "\n",
    "## Actividad: \"Corrige el Tipo\"\n",
    "\n",
    "Este código contiene un error. Intenta corregirlo usando conversión de tipo.\n",
    "\n",
    "```python\n",
    "mensaje = \"Tu edad es \"\n",
    "edad = 25\n",
    "print(mensaje + edad)\n",
    "```\n",
    "\n",
    "💡 Pista: convierte `edad` a texto con `str()`.\n"
   ]
  },
  {
   "cell_type": "code",
   "execution_count": null,
   "id": "37efd717",
   "metadata": {},
   "outputs": [],
   "source": [
    "\n",
    "mensaje = \"Tu edad es \"\n",
    "edad = 25\n",
    "\n",
    "# Solución correcta\n",
    "print(mensaje + str(edad))\n"
   ]
  }
 ],
 "metadata": {
  "language_info": {
   "name": "python"
  }
 },
 "nbformat": 4,
 "nbformat_minor": 5
}
