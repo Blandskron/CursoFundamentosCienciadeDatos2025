{
 "cells": [
  {
   "cell_type": "markdown",
   "id": "8c0f25c6",
   "metadata": {},
   "source": [
    "# Entornos de Trabajo Profesionales para Python\n",
    "**Objetivo:** Distinguir y evaluar las características de los entornos profesionales para trabajar con Python, con especial énfasis en Colab, Anaconda, Spyder, VS Code y Jupyter Notebooks.\n",
    "\n",
    "El entorno de desarrollo adecuado mejora significativamente la productividad, el control de versiones, la documentación y la colaboración entre desarrolladores. A continuación, se analizan los principales entornos utilizados en la industria."
   ]
  },
  {
   "cell_type": "markdown",
   "id": "6ca6cc36",
   "metadata": {},
   "source": [
    "## Google Colab\n",
    "**Descripción:** Plataforma de Google basada en la nube para ejecutar código Python desde el navegador.\n",
    "\n",
    "**Pros:**\n",
    "- No requiere instalación.\n",
    "- Acceso gratuito a GPU/TPU.\n",
    "- Integración con Google Drive.\n",
    "- Ideal para ciencia de datos y enseñanza.\n",
    "\n",
    "**Contras:**\n",
    "- Limitado acceso a archivos locales.\n",
    "- Dependencia de conexión a internet.\n",
    "- Menor personalización que entornos locales."
   ]
  },
  {
   "cell_type": "markdown",
   "id": "0c704f28",
   "metadata": {},
   "source": [
    "## Anaconda\n",
    "**Descripción:** Distribución de Python orientada a la ciencia de datos y computación científica.\n",
    "\n",
    "**Pros:**\n",
    "- Incluye más de 250 paquetes listos para usar.\n",
    "- Integra herramientas como Spyder y Jupyter Notebook.\n",
    "- Permite gestión de entornos con Conda.\n",
    "\n",
    "**Contras:**\n",
    "- Ocupa mucho espacio en disco.\n",
    "- Más lento para actualizaciones de paquetes."
   ]
  },
  {
   "cell_type": "markdown",
   "id": "0d68fc71",
   "metadata": {},
   "source": [
    "## Spyder\n",
    "**Descripción:** IDE incluido en Anaconda, similar a MATLAB, enfocado en análisis científico.\n",
    "\n",
    "**Pros:**\n",
    "- Interfaz intuitiva.\n",
    "- Explorador de variables.\n",
    "- Adecuado para científicos y analistas.\n",
    "\n",
    "**Contras:**\n",
    "- Menos flexible para desarrollo web o empresarial."
   ]
  },
  {
   "cell_type": "markdown",
   "id": "3c48f7d9",
   "metadata": {},
   "source": [
    "## Jupyter Notebook\n",
    "**Descripción:** Aplicación web que permite combinar código, texto, visualizaciones e interactividad.\n",
    "\n",
    "**Pros:**\n",
    "- Ideal para documentación interactiva.\n",
    "- Uso extendido en ciencia de datos.\n",
    "- Compatible con múltiples kernels (lenguajes).\n",
    "\n",
    "**Contras:**\n",
    "- No óptimo para producción.\n",
    "- Difícil gestión de múltiples archivos en proyectos grandes."
   ]
  },
  {
   "cell_type": "markdown",
   "id": "63be1716",
   "metadata": {},
   "source": [
    "## Visual Studio Code (VS Code)\n",
    "**Descripción:** Editor de código ligero y altamente extensible creado por Microsoft.\n",
    "\n",
    "**Pros:**\n",
    "- Soporte para Python con extensiones.\n",
    "- Excelente integración con Git, Docker, entornos virtuales.\n",
    "- Ideal para desarrollo full-stack.\n",
    "\n",
    "**Contras:**\n",
    "- Requiere configuración inicial.\n",
    "- Mayor curva de aprendizaje para principiantes."
   ]
  },
  {
   "cell_type": "markdown",
   "id": "a0220fbf",
   "metadata": {},
   "source": [
    "## Demostración en Google Colab: Entorno Reproducible"
   ]
  },
  {
   "cell_type": "code",
   "execution_count": null,
   "id": "65fe453b",
   "metadata": {},
   "outputs": [],
   "source": [
    "# Instalación de paquetes (recomendado en la primera celda)\n",
    "!pip install pandas matplotlib scikit-learn"
   ]
  },
  {
   "cell_type": "code",
   "execution_count": null,
   "id": "18fed7d2",
   "metadata": {},
   "outputs": [],
   "source": [
    "# Verificación de versiones\n",
    "import pandas as pd\n",
    "import matplotlib\n",
    "import sklearn\n",
    "\n",
    "print(\"Versión de pandas:\", pd.__version__)\n",
    "print(\"Versión de matplotlib:\", matplotlib.__version__)\n",
    "print(\"Versión de scikit-learn:\", sklearn.__version__)"
   ]
  },
  {
   "cell_type": "markdown",
   "id": "ead2fb6e",
   "metadata": {},
   "source": [
    "## Buenas Prácticas Profesionales\n",
    "- **Documentar dependencias**: especificar en un archivo `requirements.txt`.\n",
    "- **Gestionar entornos virtuales**: usar `conda` o `venv` para separar proyectos.\n",
    "- **Evitar dependencias innecesarias**: mantener limpio el entorno.\n",
    "- **Portabilidad**: asegurar que los notebooks funcionen en cualquier entorno con mínima configuración."
   ]
  }
 ],
 "metadata": {},
 "nbformat": 4,
 "nbformat_minor": 5
}
