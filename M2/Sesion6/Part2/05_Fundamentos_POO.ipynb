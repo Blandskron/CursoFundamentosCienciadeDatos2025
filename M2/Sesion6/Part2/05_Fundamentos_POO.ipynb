{
 "cells": [
  {
   "cell_type": "markdown",
   "id": "1abf6288",
   "metadata": {},
   "source": [
    "# Fundamentos de la Programación Orientada a Objetos (POO)\n",
    "En este notebook aprenderás qué es la Programación Orientada a Objetos (POO), sus ventajas, y cómo se aplica en el lenguaje Python."
   ]
  },
  {
   "cell_type": "markdown",
   "id": "7f4e4c10",
   "metadata": {},
   "source": [
    "## ¿Qué es la POO y por qué se utiliza?\n",
    "La **Programación Orientada a Objetos** es un paradigma que organiza el código en torno a \"objetos\", que representan entidades del mundo real con **atributos (datos)** y **métodos (comportamientos)**.\n",
    "\n",
    "Su objetivo es simplificar el diseño de software, mejorar la organización y facilitar la reutilización del código.\n",
    "\n",
    "POO es ampliamente usada en desarrollo de software moderno, incluyendo interfaces gráficas, videojuegos, aplicaciones web, entre otros."
   ]
  },
  {
   "cell_type": "markdown",
   "id": "91f8aa9b",
   "metadata": {},
   "source": [
    "## Comparación con programación estructurada\n",
    "- **Estructurada**: el código se organiza en funciones y procedimientos secuenciales.\n",
    "- **Orientada a Objetos**: el código se organiza en clases que generan objetos autónomos.\n",
    "\n",
    "| Aspecto | Estructurada | POO |\n",
    "|---------|--------------|-----|\n",
    "| Organización | Funciones | Clases y Objetos |\n",
    "| Reutilización | Limitada | Alta |\n",
    "| Modularidad | Parcial | Total |\n",
    "| Escalabilidad | Baja | Alta |"
   ]
  },
  {
   "cell_type": "markdown",
   "id": "42acf49f",
   "metadata": {},
   "source": [
    "## Ventajas de la POO\n",
    "- **Modularidad**: el código se divide en bloques independientes (clases).\n",
    "- **Reutilización**: se pueden crear nuevas clases a partir de otras (herencia).\n",
    "- **Claridad**: representa problemas reales de forma natural.\n",
    "- **Mantenimiento**: facilita la modificación y mejora del código."
   ]
  },
  {
   "cell_type": "markdown",
   "id": "0cbbb7ad",
   "metadata": {},
   "source": [
    "## Contextualización en Python\n",
    "Python es un lenguaje **multiparadigma**, lo que significa que permite usar programación estructurada y orientada a objetos.\n",
    "\n",
    "En Python, una clase se define con `class` y un objeto es una instancia de esa clase:\n",
    "```python\n",
    "class Persona:\n",
    "    def __init__(self, nombre):\n",
    "        self.nombre = nombre\n",
    "\n",
    "    def saludar(self):\n",
    "        print(f\"Hola, soy {self.nombre}\")\n",
    "\n",
    "# Crear objeto\n",
    "persona1 = Persona(\"Ana\")\n",
    "persona1.saludar()\n",
    "```"
   ]
  },
  {
   "cell_type": "markdown",
   "id": "f916a2f8",
   "metadata": {},
   "source": [
    "Este ejemplo muestra cómo crear una clase, definir atributos y métodos, y luego usar un objeto de esa clase."
   ]
  }
 ],
 "metadata": {
  "language_info": {
   "name": "python"
  }
 },
 "nbformat": 4,
 "nbformat_minor": 5
}
