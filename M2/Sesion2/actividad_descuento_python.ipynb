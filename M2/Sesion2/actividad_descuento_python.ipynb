{
 "cells": [
  {
   "cell_type": "markdown",
   "id": "f3621fa7",
   "metadata": {},
   "source": [
    "\n",
    "# Actividad Práctica: Cálculo de Precio con Descuento\n",
    "\n",
    "**Objetivo:** Aplicar variables, operaciones aritméticas y tipos de datos en Python para calcular un total con descuento.\n",
    "\n",
    "---\n"
   ]
  },
  {
   "cell_type": "markdown",
   "id": "66ef708b",
   "metadata": {},
   "source": [
    "\n",
    "## Requerimientos\n",
    "\n",
    "### 1. Crear tres variables (1 punto)\n",
    "\n",
    "- `precio_producto` → por ejemplo: 1200  \n",
    "- `cantidad` → por ejemplo: 3  \n",
    "- `descuento` → porcentaje (por ejemplo: 10)\n"
   ]
  },
  {
   "cell_type": "code",
   "execution_count": null,
   "id": "e8888c8e",
   "metadata": {},
   "outputs": [],
   "source": [
    "\n",
    "precio_producto = 1200\n",
    "cantidad = 3\n",
    "descuento = 10  # porcentaje\n"
   ]
  },
  {
   "cell_type": "markdown",
   "id": "70b5c10c",
   "metadata": {},
   "source": [
    "\n",
    "### 2. Calcular el precio total sin descuento (2 puntos)\n",
    "\n",
    "Multiplica `precio_producto` por `cantidad` y guárdalo en `total_sin_descuento`.\n"
   ]
  },
  {
   "cell_type": "code",
   "execution_count": null,
   "id": "499ecbac",
   "metadata": {},
   "outputs": [],
   "source": [
    "\n",
    "total_sin_descuento = precio_producto * cantidad\n"
   ]
  },
  {
   "cell_type": "markdown",
   "id": "05a01d67",
   "metadata": {},
   "source": [
    "\n",
    "### 3. Calcular el monto de descuento (2 puntos)\n",
    "\n",
    "Usa la variable `descuento` para calcular cuánto se descuenta del total.\n"
   ]
  },
  {
   "cell_type": "code",
   "execution_count": null,
   "id": "2c0ef692",
   "metadata": {},
   "outputs": [],
   "source": [
    "\n",
    "monto_descuento = total_sin_descuento * (descuento / 100)\n"
   ]
  },
  {
   "cell_type": "markdown",
   "id": "9f46d2fe",
   "metadata": {},
   "source": [
    "\n",
    "### 4. Calcular el total con descuento (3 puntos)\n",
    "\n",
    "Resta `monto_descuento` a `total_sin_descuento` y guarda el resultado en `total_con_descuento`.\n"
   ]
  },
  {
   "cell_type": "code",
   "execution_count": null,
   "id": "b491ce05",
   "metadata": {},
   "outputs": [],
   "source": [
    "\n",
    "total_con_descuento = total_sin_descuento - monto_descuento\n"
   ]
  },
  {
   "cell_type": "markdown",
   "id": "2ff41920",
   "metadata": {},
   "source": [
    "\n",
    "### 5. Imprimir los resultados (2 puntos)\n",
    "\n",
    "Muestra los cálculos en consola con mensajes claros.\n"
   ]
  },
  {
   "cell_type": "code",
   "execution_count": null,
   "id": "71a18cac",
   "metadata": {},
   "outputs": [],
   "source": [
    "\n",
    "print(\"Total sin descuento:\", total_sin_descuento)\n",
    "print(\"Monto de descuento:\", monto_descuento)\n",
    "print(\"Total con descuento:\", total_con_descuento)\n"
   ]
  }
 ],
 "metadata": {
  "language_info": {
   "name": "python"
  }
 },
 "nbformat": 4,
 "nbformat_minor": 5
}
