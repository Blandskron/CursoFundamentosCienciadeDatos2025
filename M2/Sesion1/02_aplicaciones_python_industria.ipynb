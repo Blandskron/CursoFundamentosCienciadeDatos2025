{
 "cells": [
  {
   "cell_type": "markdown",
   "id": "82fd4a77",
   "metadata": {},
   "source": [
    "# Aplicaciones del Lenguaje Python por Industria\n",
    "**Objetivo:** Comprender en qué contextos profesionales se aplica Python, ejemplificando cómo resuelve problemáticas en distintas industrias.\n",
    "\n",
    "Python es altamente versátil, lo que permite su aplicación en distintos sectores industriales, desde el desarrollo web hasta la inteligencia artificial. A continuación exploramos ejemplos prácticos en cada uno de estos ámbitos."
   ]
  },
  {
   "cell_type": "markdown",
   "id": "d8bf38b6",
   "metadata": {},
   "source": [
    "## Desarrollo Web con Flask (Introducción)\n",
    "Flask es un microframework liviano para desarrollo web en Python. Permite crear APIs y aplicaciones web rápidamente."
   ]
  },
  {
   "cell_type": "code",
   "execution_count": null,
   "id": "89d177e5",
   "metadata": {},
   "outputs": [],
   "source": [
    "# Requiere instalación: !pip install flask\n",
    "from flask import Flask\n",
    "app = Flask(__name__)\n",
    "\n",
    "@app.route('/')\n",
    "def home():\n",
    "    return 'Bienvenido a una app Flask básica'\n",
    "\n",
    "# Para ejecutar, usar: app.run(debug=True) en un entorno local\n",
    "# Este código no se ejecuta directamente en Google Colab."
   ]
  },
  {
   "cell_type": "markdown",
   "id": "6ae40f66",
   "metadata": {},
   "source": [
    "## Ciencia de Datos con pandas\n",
    "Python es ampliamente utilizado en análisis de datos. Usaremos `pandas` para cargar y explorar un dataset simple."
   ]
  },
  {
   "cell_type": "code",
   "execution_count": null,
   "id": "7edb730b",
   "metadata": {},
   "outputs": [],
   "source": [
    "import pandas as pd\n",
    "\n",
    "# Dataset de ejemplo\n",
    "datos = {\n",
    "    'Nombre': ['Ana', 'Luis', 'Pedro'],\n",
    "    'Edad': [23, 35, 42],\n",
    "    'Salario': [50000, 62000, 58000]\n",
    "}\n",
    "df = pd.DataFrame(datos)\n",
    "print(df)\n",
    "\n",
    "# Análisis básico\n",
    "print(\"\\nPromedio Salarial:\", df['Salario'].mean())"
   ]
  },
  {
   "cell_type": "markdown",
   "id": "102f0f82",
   "metadata": {},
   "source": [
    "## Inteligencia Artificial: Perceptrón con scikit-learn\n",
    "Un perceptrón es una unidad de red neuronal básica. Usaremos `scikit-learn` para entrenarlo con datos simples."
   ]
  },
  {
   "cell_type": "code",
   "execution_count": null,
   "id": "ecbc3b00",
   "metadata": {},
   "outputs": [],
   "source": [
    "# Importamos el modelo Perceptrón y utilidades para cargar datos y evaluar\n",
    "from sklearn.linear_model import Perceptron\n",
    "from sklearn.datasets import load_iris\n",
    "from sklearn.model_selection import train_test_split\n",
    "from sklearn.metrics import accuracy_score\n",
    "\n",
    "# Cargamos el dataset Iris (flores con medidas y su tipo)\n",
    "X, y = load_iris(return_X_y=True)  # X = características, y = etiquetas (tipos de flor)\n",
    "\n",
    "# Dividimos los datos en entrenamiento (70%) y prueba (30%)\n",
    "X_train, X_test, y_train, y_test = train_test_split(X, y, test_size=0.3)\n",
    "\n",
    "# Creamos el modelo Perceptrón (clasificador simple)\n",
    "modelo = Perceptron()\n",
    "\n",
    "# Entrenamos el modelo con los datos de entrenamiento\n",
    "modelo.fit(X_train, y_train)\n",
    "\n",
    "# Usamos el modelo entrenado para predecir las clases en los datos de prueba\n",
    "predicciones = modelo.predict(X_test)\n",
    "\n",
    "# Calculamos la precisión (porcentaje de aciertos) comparando con las etiquetas reales\n",
    "print(\"Precisión del Perceptrón:\", accuracy_score(y_test, predicciones))\n"
   ]
  },
  {
   "cell_type": "markdown",
   "id": "1e6d9962",
   "metadata": {},
   "source": [
    "## Automatización de Tareas: Renombrar Archivos\n",
    "Python puede usarse para automatizar tareas administrativas como renombrar archivos en lote."
   ]
  },
  {
   "cell_type": "code",
   "execution_count": null,
   "id": "aa5221f3",
   "metadata": {},
   "outputs": [],
   "source": [
    "import os\n",
    "\n",
    "# Simulación de renombrado (no cambia nada en Colab)\n",
    "archivos = ['informe1.txt', 'informe2.txt', 'informe3.txt']\n",
    "for i, nombre in enumerate(archivos):\n",
    "    nuevo_nombre = f'documento_{i+1}.txt'\n",
    "    print(f'Renombrando {nombre} a {nuevo_nombre}')"
   ]
  },
  {
   "cell_type": "markdown",
   "id": "f4f9c22c",
   "metadata": {},
   "source": [
    "## Buenas Prácticas Profesionales\n",
    "- **Separación de responsabilidades**: divide funciones por tarea (web, IA, datos).\n",
    "- **Uso modular**: crea scripts y funciones reutilizables.\n",
    "- **Documentación**: comenta con claridad cada bloque de código.\n",
    "- **Reproducibilidad**: usa entornos virtuales y especifica dependencias (`requirements.txt`)."
   ]
  }
 ],
 "metadata": {
  "language_info": {
   "name": "python"
  }
 },
 "nbformat": 4,
 "nbformat_minor": 5
}
