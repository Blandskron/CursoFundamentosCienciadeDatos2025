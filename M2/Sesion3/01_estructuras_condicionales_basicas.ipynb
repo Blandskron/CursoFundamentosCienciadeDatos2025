{
 "cells": [
  {
   "cell_type": "markdown",
   "id": "0d1ac0ed",
   "metadata": {},
   "source": [
    "\n",
    "# Introducción a las Estructuras Condicionales en Python\n",
    "\n",
    "**Objetivo:** Identificar y comprender los tipos de estructuras condicionales (`if`, `if-else`, `if-elif-else`) y su utilidad en la construcción de rutinas simples en Python.\n"
   ]
  },
  {
   "cell_type": "markdown",
   "id": "be3e2009",
   "metadata": {},
   "source": [
    "\n",
    "## ¿Qué es una sentencia condicional y por qué se necesita?\n",
    "\n",
    "Una sentencia condicional permite que un programa tome decisiones durante su ejecución.  \n",
    "Evalúa si una condición es verdadera o falsa, y según el resultado, ejecuta o no un bloque de código.\n",
    "\n",
    "Este mecanismo es fundamental para que un programa pueda reaccionar a distintas situaciones, en lugar de ejecutar siempre la misma secuencia de instrucciones.\n"
   ]
  },
  {
   "cell_type": "markdown",
   "id": "b38ccc81",
   "metadata": {},
   "source": [
    "\n",
    "## Sentencia `if`\n",
    "\n",
    "La estructura más simple de decisión en Python. Ejecuta un bloque solo si la condición es verdadera.\n",
    "\n",
    "```python\n",
    "edad = 20\n",
    "if edad >= 18:\n",
    "    print(\"Eres mayor de edad\")\n",
    "```\n"
   ]
  },
  {
   "cell_type": "markdown",
   "id": "81ff29ad",
   "metadata": {},
   "source": [
    "\n",
    "## Sentencia `if-else`\n",
    "\n",
    "Permite definir un bloque alternativo que se ejecuta si la condición es falsa.\n",
    "\n",
    "```python\n",
    "edad = 16\n",
    "if edad >= 18:\n",
    "    print(\"Eres mayor de edad\")\n",
    "else:\n",
    "    print(\"Eres menor de edad\")\n",
    "```\n"
   ]
  },
  {
   "cell_type": "markdown",
   "id": "ce58533b",
   "metadata": {},
   "source": [
    "\n",
    "## Sentencia `if-elif-else`\n",
    "\n",
    "Permite evaluar múltiples condiciones en secuencia.\n",
    "\n",
    "```python\n",
    "nota = 85\n",
    "if nota >= 90:\n",
    "    print(\"Excelente\")\n",
    "elif nota >= 70:\n",
    "    print(\"Aprobado\")\n",
    "else:\n",
    "    print(\"Reprobado\")\n",
    "```\n"
   ]
  },
  {
   "cell_type": "markdown",
   "id": "7b0635e2",
   "metadata": {},
   "source": [
    "\n",
    "## Ejercicio práctico 1\n",
    "\n",
    "Evalúa si un número ingresado por el usuario es positivo, negativo o cero.\n"
   ]
  },
  {
   "cell_type": "code",
   "execution_count": null,
   "id": "0d0e95bc",
   "metadata": {},
   "outputs": [],
   "source": [
    "\n",
    "numero = int(input(\"Ingresa un número: \"))\n",
    "\n",
    "if numero > 0:\n",
    "    print(\"El número es positivo\")\n",
    "elif numero < 0:\n",
    "    print(\"El número es negativo\")\n",
    "else:\n",
    "    print(\"El número es cero\")\n"
   ]
  },
  {
   "cell_type": "markdown",
   "id": "51659337",
   "metadata": {},
   "source": [
    "\n",
    "## Ejercicio práctico 2\n",
    "\n",
    "Determina si un usuario tiene acceso al sistema según su edad.\n"
   ]
  },
  {
   "cell_type": "code",
   "execution_count": null,
   "id": "68ad0bc7",
   "metadata": {},
   "outputs": [],
   "source": [
    "\n",
    "edad = int(input(\"Ingresa tu edad: \"))\n",
    "\n",
    "if edad >= 18:\n",
    "    print(\"Acceso permitido\")\n",
    "else:\n",
    "    print(\"Acceso denegado\")\n"
   ]
  }
 ],
 "metadata": {
  "language_info": {
   "name": "python"
  }
 },
 "nbformat": 4,
 "nbformat_minor": 5
}
