{
 "cells": [
  {
   "cell_type": "markdown",
   "id": "cb67345f",
   "metadata": {},
   "source": [
    "# Iteración sobre Listas y Diccionarios\n",
    "En este notebook aprenderás a recorrer estructuras de datos como listas y diccionarios en Python. Verás cómo acceder a elementos, sublistas, claves, valores y pares clave-valor."
   ]
  },
  {
   "cell_type": "markdown",
   "id": "51f290bb",
   "metadata": {},
   "source": [
    "## Recorrido de listas y sublistas\n",
    "Las listas se recorren fácilmente con un bucle `for`:\n",
    "```python\n",
    "frutas = [\"manzana\", \"plátano\", \"naranja\"]\n",
    "for fruta in frutas:\n",
    "    print(fruta)\n",
    "```\n",
    "También puedes recorrer sublistas usando slicing:\n",
    "```python\n",
    "for fruta in frutas[1:]:  # desde el segundo elemento\n",
    "    print(fruta)\n",
    "```"
   ]
  },
  {
   "cell_type": "markdown",
   "id": "5189fc53",
   "metadata": {},
   "source": [
    "## Iteración sobre diccionarios\n",
    "Un diccionario puede recorrerse de varias formas:\n",
    "\n",
    "- Solo claves:\n",
    "```python\n",
    "for clave in diccionario.keys():\n",
    "    print(clave)\n",
    "```\n",
    "- Solo valores:\n",
    "```python\n",
    "for valor in diccionario.values():\n",
    "    print(valor)\n",
    "```\n",
    "- Clave y valor:\n",
    "```python\n",
    "for clave, valor in diccionario.items():\n",
    "    print(clave, \"→\", valor)\n",
    "```"
   ]
  },
  {
   "cell_type": "markdown",
   "id": "285d53cb",
   "metadata": {},
   "source": [
    "## Ejercicio práctico: Conteo de letras\n",
    "Escribe un programa que reciba una palabra y cuente cuántas veces aparece cada letra utilizando un diccionario."
   ]
  },
  {
   "cell_type": "code",
   "execution_count": null,
   "id": "b3cfedf7",
   "metadata": {},
   "outputs": [],
   "source": [
    "# Solución ejemplo\n",
    "palabra = input(\"Ingresa una palabra: \")\n",
    "conteo = {}\n",
    "\n",
    "for letra in palabra:\n",
    "    if letra in conteo:\n",
    "        conteo[letra] += 1\n",
    "    else:\n",
    "        conteo[letra] = 1\n",
    "\n",
    "print(\"Conteo de letras:\")\n",
    "for letra, cantidad in conteo.items():\n",
    "    print(letra, \"→\", cantidad)"
   ]
  },
  {
   "cell_type": "markdown",
   "id": "a5f0c665",
   "metadata": {},
   "source": [
    "## Casos de uso comunes\n",
    "- **Recorridos**: mostrar todos los elementos de una colección\n",
    "- **Filtrados**: seleccionar elementos que cumplan cierta condición\n",
    "- **Búsquedas**: encontrar elementos específicos en estructuras\n",
    "\n",
    "Estas técnicas son fundamentales para análisis de datos, validaciones o tareas automáticas."
   ]
  }
 ],
 "metadata": {
  "language_info": {
   "name": "python"
  }
 },
 "nbformat": 4,
 "nbformat_minor": 5
}
