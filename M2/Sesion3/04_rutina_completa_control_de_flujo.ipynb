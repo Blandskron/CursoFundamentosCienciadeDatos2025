{
 "cells": [
  {
   "cell_type": "markdown",
   "id": "2d1867cc",
   "metadata": {},
   "source": [
    "\n",
    "# Proyecto Final: Rutina Completa con Decisiones Múltiples\n",
    "\n",
    "**Objetivo:** Consolidar los conocimientos adquiridos sobre estructuras condicionales mediante el desarrollo de una rutina completa con múltiples condiciones, operadores lógicos y entrada/salida de datos.\n"
   ]
  },
  {
   "cell_type": "markdown",
   "id": "10352e18",
   "metadata": {},
   "source": [
    "\n",
    "## Introducción\n",
    "\n",
    "Este proyecto pone en práctica el uso de `if`, `if-else` y `if-elif-else`, combinados con operadores booleanos y de comparación, para resolver un problema concreto. También se utiliza `input()` para recoger datos del usuario y `print()` para mostrar los resultados.\n",
    "\n",
    "Desarrollaremos una **evaluación de perfil financiero** para clasificar a una persona en distintas categorías de riesgo según su edad, ingresos y nivel de endeudamiento.\n"
   ]
  },
  {
   "cell_type": "markdown",
   "id": "2279d8de",
   "metadata": {},
   "source": [
    "\n",
    "## Evaluación de Perfil Financiero\n",
    "\n",
    "### Reglas del sistema:\n",
    "- Si la edad es menor de 18, rechazar automáticamente.\n",
    "- Si la persona tiene ingresos mayores a 2.000.000 y deudas menores a 500.000 → perfil \"excelente\".\n",
    "- Si ingresos entre 1.000.000 y 2.000.000 y deuda menor a 50% del ingreso → perfil \"moderado\".\n",
    "- En cualquier otro caso → perfil \"riesgoso\".\n"
   ]
  },
  {
   "cell_type": "code",
   "execution_count": null,
   "id": "c5295904",
   "metadata": {},
   "outputs": [],
   "source": [
    "\n",
    "edad = int(input(\"Ingresa tu edad: \"))\n",
    "\n",
    "if edad < 18:\n",
    "    print(\"No se puede evaluar el perfil. Edad insuficiente.\")\n",
    "else:\n",
    "    ingreso = float(input(\"Ingresa tus ingresos mensuales: \"))\n",
    "    deuda = float(input(\"Ingresa el total de tus deudas actuales: \"))\n",
    "\n",
    "    if ingreso > 2000000 and deuda < 500000:\n",
    "        perfil = \"excelente\"\n",
    "    elif 1000000 <= ingreso <= 2000000 and deuda < ingreso * 0.5:\n",
    "        perfil = \"moderado\"\n",
    "    else:\n",
    "        perfil = \"riesgoso\"\n",
    "\n",
    "    print(\"Perfil financiero evaluado:\", perfil)\n"
   ]
  },
  {
   "cell_type": "markdown",
   "id": "7ddbec52",
   "metadata": {},
   "source": [
    "\n",
    "## Expresión ternaria (opcional)\n",
    "\n",
    "Para decisiones simples, es posible usar una expresión ternaria:\n",
    "\n",
    "```python\n",
    "mayor = \"sí\" if edad >= 18 else \"no\"\n",
    "```\n"
   ]
  },
  {
   "cell_type": "code",
   "execution_count": null,
   "id": "ca634174",
   "metadata": {},
   "outputs": [],
   "source": [
    "\n",
    "mayor = \"sí\" if edad >= 18 else \"no\"\n",
    "print(\"¿Eres mayor de edad?:\", mayor)\n"
   ]
  }
 ],
 "metadata": {
  "language_info": {
   "name": "python"
  }
 },
 "nbformat": 4,
 "nbformat_minor": 5
}
