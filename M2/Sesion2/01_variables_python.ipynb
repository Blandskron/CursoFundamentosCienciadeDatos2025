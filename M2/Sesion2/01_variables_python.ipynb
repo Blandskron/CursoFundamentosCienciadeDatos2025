{
 "cells": [
  {
   "cell_type": "markdown",
   "id": "1738b2fe",
   "metadata": {},
   "source": [
    "\n",
    "# Introducción a Variables en Python\n",
    "\n",
    "**Objetivo:** Comprender qué es una variable, cómo se asigna, cómo se nombra correctamente y detectar errores comunes.\n",
    "\n",
    "---\n"
   ]
  },
  {
   "cell_type": "markdown",
   "id": "76a47446",
   "metadata": {},
   "source": [
    "\n",
    "## ¿Qué es una Variable?\n",
    "\n",
    "Una variable es un nombre simbólico que representa un espacio en la memoria donde se almacena información.  \n",
    "En Python, las variables **no necesitan una declaración previa de tipo**. Solo basta con asignar un valor:\n",
    "\n",
    "```python\n",
    "x = 5\n",
    "nombre = \"Juan\"\n",
    "```\n",
    "\n",
    "Python deduce automáticamente el tipo del dato almacenado.\n"
   ]
  },
  {
   "cell_type": "markdown",
   "id": "69aff647",
   "metadata": {},
   "source": [
    "\n",
    "## Asignación Dinámica de Tipos\n",
    "\n",
    "Python es un lenguaje de **tipado dinámico**, lo que significa que puedes reasignar cualquier tipo de dato a una misma variable:\n",
    "\n",
    "```python\n",
    "dato = 100      # entero\n",
    "dato = \"cien\"   # ahora es cadena\n",
    "dato = True     # ahora es booleano\n",
    "```\n"
   ]
  },
  {
   "cell_type": "markdown",
   "id": "b6b327b6",
   "metadata": {},
   "source": [
    "\n",
    "## Nombres Válidos y Buenas Prácticas\n",
    "\n",
    "1. Usa nombres descriptivos:  \n",
    "   ```python\n",
    "   edad = 30       # claro\n",
    "   e = 30          # confuso\n",
    "   ```\n",
    "\n",
    "2. Evita nombres reservados (palabras clave de Python):  \n",
    "   `if`, `else`, `for`, `while`, `True`, `class`...\n",
    "\n",
    "3. Usa snake_case para separar palabras:  \n",
    "   ```python\n",
    "   nombre_completo = \"Ana Pérez\"\n",
    "   ```\n",
    "\n"
   ]
  },
  {
   "cell_type": "markdown",
   "id": "c18ea8a3",
   "metadata": {},
   "source": [
    "\n",
    "## Ejercicios de Práctica\n",
    "\n",
    "### 1. Asignar valores a distintas variables:\n"
   ]
  },
  {
   "cell_type": "code",
   "execution_count": null,
   "id": "18e62c15",
   "metadata": {},
   "outputs": [],
   "source": [
    "\n",
    "nombre = \"Carlos\"\n",
    "edad = 28\n",
    "es_estudiante = True\n",
    "altura = 1.75\n",
    "\n",
    "print(nombre, edad, es_estudiante, altura)\n"
   ]
  },
  {
   "cell_type": "markdown",
   "id": "1a065b82",
   "metadata": {},
   "source": [
    "\n",
    "### 2. Detectar errores comunes:\n"
   ]
  },
  {
   "cell_type": "code",
   "execution_count": null,
   "id": "4f83f1b6",
   "metadata": {},
   "outputs": [],
   "source": [
    "\n",
    "# ¿Qué pasará aquí?\n",
    "# if = 10\n",
    "# print(if)\n"
   ]
  },
  {
   "cell_type": "markdown",
   "id": "a974e4c3",
   "metadata": {},
   "source": [
    "\n",
    "## Actividad: \"Nombrando bien\"\n",
    "\n",
    "Corrige los nombres de las siguientes variables para que sean más descriptivos:\n",
    "\n",
    "```python\n",
    "x = \"Juan\"\n",
    "y = 25\n",
    "z = True\n",
    "```\n",
    "\n",
    "Tu versión mejorada:\n"
   ]
  },
  {
   "cell_type": "code",
   "execution_count": null,
   "id": "2767c45a",
   "metadata": {},
   "outputs": [],
   "source": [
    "\n",
    "nombre_usuario = \"Juan\"\n",
    "edad_usuario = 25\n",
    "tiene_acceso = True\n"
   ]
  },
  {
   "cell_type": "markdown",
   "id": "2cd1a8fe",
   "metadata": {},
   "source": [
    "\n",
    "## Mini Quiz con `input()`\n",
    "\n",
    "Responde esta pregunta en la consola.\n"
   ]
  },
  {
   "cell_type": "code",
   "execution_count": 2,
   "id": "07f403ec",
   "metadata": {},
   "outputs": [
    {
     "name": "stdout",
     "output_type": "stream",
     "text": [
      "Correcto\n"
     ]
    }
   ],
   "source": [
    "\n",
    "respuesta = input(\"¿Cuál de los siguientes es un nombre válido de variable en Python? A) 2nombre B) nombre_usuario C) class Tu respuesta: \")\n",
    "if respuesta.upper() == \"B\":\n",
    "    print(\"Correcto\")\n",
    "else:\n",
    "    print(\"Revisa las reglas de nombres válidos\")\n"
   ]
  }
 ],
 "metadata": {
  "kernelspec": {
   "display_name": "base",
   "language": "python",
   "name": "python3"
  },
  "language_info": {
   "codemirror_mode": {
    "name": "ipython",
    "version": 3
   },
   "file_extension": ".py",
   "mimetype": "text/x-python",
   "name": "python",
   "nbconvert_exporter": "python",
   "pygments_lexer": "ipython3",
   "version": "3.12.7"
  }
 },
 "nbformat": 4,
 "nbformat_minor": 5
}
