{
 "cells": [
  {
   "cell_type": "markdown",
   "id": "dcb466a9",
   "metadata": {},
   "source": [
    "# Introducción a Python y su Sintaxis Esencial\n",
    "**Objetivo:** Comprender las características principales del lenguaje Python desde su diseño sintáctico hasta su aplicación práctica, destacando su simplicidad y legibilidad como ventajas industriales.\n",
    "\n",
    "Python es un lenguaje de programación de alto nivel, interpretado y multiparadigma, diseñado para ser intuitivo y expresivo. Su sintaxis clara permite a los desarrolladores centrarse en la lógica del programa más que en detalles técnicos innecesarios."
   ]
  },
  {
   "cell_type": "markdown",
   "id": "6b0a17ed",
   "metadata": {},
   "source": [
    "## Diseño del Lenguaje y Filosofía\n",
    "Python se enfoca en:\n",
    "- Legibilidad del código.\n",
    "- Pocas líneas para lograr mucho (alta expresividad).\n",
    "- Soporte multiparadigma: orientado a objetos, imperativo y funcional."
   ]
  },
  {
   "cell_type": "code",
   "execution_count": null,
   "id": "e4587e4d",
   "metadata": {},
   "outputs": [],
   "source": [
    "# Comentario profesional en Python\n",
    "# Esta línea de código imprime un mensaje en pantalla\n",
    "print(\"¡Hola, Python!\")"
   ]
  },
  {
   "cell_type": "markdown",
   "id": "151a1cef",
   "metadata": {},
   "source": [
    "## Variables y Tipos de Datos\n",
    "En Python no necesitas declarar el tipo de variable explícitamente."
   ]
  },
  {
   "cell_type": "code",
   "execution_count": null,
   "id": "ac674d44",
   "metadata": {},
   "outputs": [],
   "source": [
    "nombre = \"Bastián\"  # Tipo str\n",
    "edad = 30             # Tipo int\n",
    "altura = 1.75         # Tipo float\n",
    "es_estudiante = True  # Tipo bool\n",
    "\n",
    "print(nombre, edad, altura, es_estudiante)"
   ]
  },
  {
   "cell_type": "markdown",
   "id": "7f09570d",
   "metadata": {},
   "source": [
    "## Operadores\n",
    "Python admite operadores aritméticos, lógicos y de comparación."
   ]
  },
  {
   "cell_type": "code",
   "execution_count": null,
   "id": "96b5b4b1",
   "metadata": {},
   "outputs": [],
   "source": [
    "a = 10\n",
    "b = 3\n",
    "print(\"Suma:\", a + b)\n",
    "print(\"Potencia:\", a ** b)\n",
    "print(\"Comparación:\", a > b)\n",
    "print(\"Lógico AND:\", a > 5 and b < 5)"
   ]
  },
  {
   "cell_type": "markdown",
   "id": "7708b4a7",
   "metadata": {},
   "source": [
    "## Condicionales (if, elif, else)\n",
    "La indentación es crucial en Python para definir bloques de código."
   ]
  },
  {
   "cell_type": "code",
   "execution_count": null,
   "id": "bd96a66d",
   "metadata": {},
   "outputs": [],
   "source": [
    "nota = 85\n",
    "if nota >= 90:\n",
    "    print(\"Excelente\")\n",
    "elif nota >= 70:\n",
    "    print(\"Aprobado\")\n",
    "else:\n",
    "    print(\"Reprobado\")"
   ]
  },
  {
   "cell_type": "markdown",
   "id": "4b5f788a",
   "metadata": {},
   "source": [
    "## Bucles (for, while)\n",
    "Los bucles permiten repetir acciones."
   ]
  },
  {
   "cell_type": "code",
   "execution_count": null,
   "id": "568c0dab",
   "metadata": {},
   "outputs": [],
   "source": [
    "for i in range(5):\n",
    "    print(\"Iteración\", i)\n",
    "\n",
    "contador = 0\n",
    "while contador < 3:\n",
    "    print(\"Contador:\", contador)\n",
    "    contador += 1"
   ]
  },
  {
   "cell_type": "markdown",
   "id": "ebff445d",
   "metadata": {},
   "source": [
    "## Buenas Prácticas\n",
    "- Usa nombres descriptivos (`total_ventas`, `usuario_activo`).\n",
    "- Comenta cuando el código no sea autoexplicativo.\n",
    "- Usa espacios y no tabuladores.\n",
    "- Mantén una estructura coherente de indentación."
   ]
  },
  {
   "cell_type": "markdown",
   "id": "cd9b6069",
   "metadata": {},
   "source": [
    "## Conclusión\n",
    "La sintaxis de Python permite una curva de aprendizaje suave y favorece la colaboración. Su claridad estructural mejora la productividad, facilita la depuración y fomenta el desarrollo sostenible de software."
   ]
  }
 ],
 "metadata": {},
 "nbformat": 4,
 "nbformat_minor": 5
}
